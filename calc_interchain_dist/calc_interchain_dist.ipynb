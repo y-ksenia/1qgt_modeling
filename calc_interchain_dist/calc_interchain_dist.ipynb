{
 "cells": [
  {
   "cell_type": "code",
   "execution_count": 25,
   "metadata": {
    "collapsed": false
   },
   "outputs": [
    {
     "name": "stdout",
     "output_type": "stream",
     "text": [
      "001-1.15\n",
      "11.0201952964\n"
     ]
    }
   ],
   "source": [
    "from numpy import *\n",
    "import math as m\n",
    "\n",
    "N = 3182\n",
    "file_name = raw_input()\n",
    "file = open(file_name + \".xyz\", \"r\")\n",
    "coords = []\n",
    "sum = 0\n",
    "for i, line in enumerate(file):\n",
    "    parts = line.split()\n",
    "    if i >= 2:\n",
    "        x = float(parts[1])\n",
    "        y = float(parts[2])\n",
    "        z = float(parts[3])\n",
    "        coords.append((x,y,z))\n",
    "file.close()\n",
    "\n",
    "#print coords[i][0]\n",
    "for i in range(N):\n",
    "    rx = abs(coords[i][0] - coords[i + N][0])\n",
    "    ry = abs(coords[i][1] - coords[i + N][1])\n",
    "    rz = abs(coords[i][2] - coords[i + N][2])\n",
    "    #print rx, ry, rz\n",
    "    r2 = rx * rx + ry * ry + rz * rz\n",
    "    r = m.sqrt(r2)\n",
    "    sum = sum + r\n",
    "av_r = sum / N\n",
    "print av_r"
   ]
  },
  {
   "cell_type": "code",
   "execution_count": null,
   "metadata": {
    "collapsed": true
   },
   "outputs": [],
   "source": []
  },
  {
   "cell_type": "code",
   "execution_count": null,
   "metadata": {
    "collapsed": true
   },
   "outputs": [],
   "source": []
  }
 ],
 "metadata": {
  "kernelspec": {
   "display_name": "Python 2",
   "language": "python",
   "name": "python2"
  },
  "language_info": {
   "codemirror_mode": {
    "name": "ipython",
    "version": 2
   },
   "file_extension": ".py",
   "mimetype": "text/x-python",
   "name": "python",
   "nbconvert_exporter": "python",
   "pygments_lexer": "ipython2",
   "version": "2.7.13"
  }
 },
 "nbformat": 4,
 "nbformat_minor": 2
}
