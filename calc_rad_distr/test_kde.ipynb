{
 "cells": [
  {
   "cell_type": "code",
   "execution_count": 39,
   "metadata": {},
   "outputs": [],
   "source": [
    "import sys\n",
    "import string\n",
    "import os\n",
    "import numpy as np\n",
    "from math import pi\n",
    "import scipy.stats\n",
    "\n",
    "import matplotlib as mpl\n",
    "import matplotlib.pyplot as plt\n",
    "from tqdm import tqdm\n",
    "%matplotlib inline"
   ]
  },
  {
   "cell_type": "code",
   "execution_count": 64,
   "metadata": {},
   "outputs": [
    {
     "name": "stderr",
     "output_type": "stream",
     "text": [
      "\r",
      "  0%|          | 0/1 [00:00<?, ?it/s]"
     ]
    },
    {
     "name": "stdout",
     "output_type": "stream",
     "text": [
      "DNA\n",
      "(array([  0,   0,   0,   0,   0,   0,   0,  14,  14,   9,   7,   8,   8,\n",
      "        19,  15,  25,  33,  21,  32,  37,  25,  55,  59,  50,  37,  54,\n",
      "        38,  42,  61,  77,  90, 101, 131, 108, 124, 101, 105,  90,  77,\n",
      "        89, 108, 106, 127, 209, 374, 643, 489, 178,  10,   0,   0,   0,\n",
      "         0,   0,   0,   0,   0,   0,   0,   0,   0,   0,   0,   0,   0,\n",
      "         0,   0,   0,   0,   0,   0,   0,   0,   0,   0,   0,   0,   0,\n",
      "         0,   0,   0,   0,   0,   0,   0,   0,   0,   0,   0,   0,   0,\n",
      "         0,   0,   0,   0,   0,   0,   0,   0,   0,   0,   0,   0,   0,\n",
      "         0,   0,   0,   0,   0,   0,   0,   0,   0,   0,   0,   0,   0,\n",
      "         0,   0]), array([  0,   5,  10,  15,  20,  25,  30,  35,  40,  45,  50,  55,  60,\n",
      "        65,  70,  75,  80,  85,  90,  95, 100, 105, 110, 115, 120, 125,\n",
      "       130, 135, 140, 145, 150, 155, 160, 165, 170, 175, 180, 185, 190,\n",
      "       195, 200, 205, 210, 215, 220, 225, 230, 235, 240, 245, 250, 255,\n",
      "       260, 265, 270, 275, 280, 285, 290, 295, 300, 305, 310, 315, 320,\n",
      "       325, 330, 335, 340, 345, 350, 355, 360, 365, 370, 375, 380, 385,\n",
      "       390, 395, 400, 405, 410, 415, 420, 425, 430, 435, 440, 445, 450,\n",
      "       455, 460, 465, 470, 475, 480, 485, 490, 495, 500, 505, 510, 515,\n",
      "       520, 525, 530, 535, 540, 545, 550, 555, 560, 565, 570, 575, 580,\n",
      "       585, 590, 595]))\n"
     ]
    },
    {
     "name": "stderr",
     "output_type": "stream",
     "text": [
      "/home/yagafarova/anaconda3/lib/python3.6/site-packages/ipykernel_launcher.py:32: RuntimeWarning: invalid value encountered in true_divide\n",
      "100%|██████████| 1/1 [00:00<00:00,  4.21it/s]\n"
     ]
    },
    {
     "data": {
      "image/png": "[encoded data removed]",
      "text/plain": [
       "<matplotlib.figure.Figure at 0x7f40291f7278>"
      ]
     },
     "metadata": {},
     "output_type": "display_data"
    }
   ],
   "source": [
    "\n",
    "#Указываем: шаг по фреймам, максимальное количество фрейм (как автоматизировать?)\n",
    "\n",
    "step = 1\n",
    "max_frame = 9045\n",
    "\n",
    "# In[34]:\n",
    "\n",
    "for elem in (['DNA']):\n",
    "    print(elem)\n",
    "    if not os.path.exists(f'dsDNA_4000bp_50mM/{elem}_rad_distr'):\n",
    "        os.mkdir(f'dsDNA_4000bp_50mM/{elem}_rad_distr')\n",
    "    for frame in tqdm(range(6180, 6181, step)):\n",
    "        #Считываем координаты всех частиц\n",
    "        fname = f'dsDNA_4000bp_50mM/distr/{elem}.{frame}.dat'\n",
    "        fig = plt.figure(figsize = (15,10))\n",
    "        #Вычисляем радиальное распределение\n",
    "        x = np.arange(10,600)\n",
    "        data = np.array([float(i.strip()) for i in open(fname)])\n",
    "        # Посторой гистограммы hist(data, bins=[1, 2, 3, 4])  и сравни с графиком (x, pdf)\n",
    "        s = np.histogram(data, bins = range(0,600,5))\n",
    "        pdf = np.array(scipy.stats.gaussian_kde(data).pdf(x))\n",
    "        pdf1 = np.array(scipy.stats.gaussian_kde(data, bw_method='scott').pdf(x))\n",
    "        pdf2 = np.array(scipy.stats.gaussian_kde(data, bw_method=0.2).pdf(x))\n",
    "        denom = x*x*4*pi\n",
    "        pltdt = np.divide(pdf, denom)\n",
    "        pltdt /= sum(pltdt)\n",
    "        pltdt1 = np.divide(pdf1, denom)\n",
    "        pltdt1 /= sum(pltdt1)\n",
    "        pltdt2 = np.divide(pdf2, denom)\n",
    "        pltdt2 /= sum(pltdt2)\n",
    "        h = s[0]/(s[1][:-1]**2)\n",
    "        print(s)\n",
    "        plt.plot(x, pdf)\n",
    "#         plt.plot(x, pltdt1)\n",
    "#         plt.plot(x, pltdt2)\n",
    "#         plt.plot(s[1][:-1], h)\n",
    "        plt.hist(data, bins = range(0,600,5), density=True)\n",
    "\n",
    "        #Сохраняем то, что посчитали\n",
    "#         file = open(f'dsDNA_4000bp_50mM/{elem}_rad_distr/{frame}.dat', \"w\")\n",
    "#         for i,j in enumerate(x):\n",
    "#             file.write(str(j) + '\\t' + str(pltdt[i]) + '\\n')\n",
    "#         file.close()\n",
    "#     plt.show()\n"
   ]
  },
  {
   "cell_type": "code",
   "execution_count": null,
   "metadata": {},
   "outputs": [],
   "source": []
  },
  {
   "cell_type": "code",
   "execution_count": null,
   "metadata": {},
   "outputs": [],
   "source": []
  }
 ],
 "metadata": {
  "kernelspec": {
   "display_name": "Python 3",
   "language": "python",
   "name": "python3"
  },
  "language_info": {
   "codemirror_mode": {
    "name": "ipython",
    "version": 3
   },
   "file_extension": ".py",
   "mimetype": "text/x-python",
   "name": "python",
   "nbconvert_exporter": "python",
   "pygments_lexer": "ipython3",
   "version": "3.6.4"
  }
 },
 "nbformat": 4,
 "nbformat_minor": 2
}
