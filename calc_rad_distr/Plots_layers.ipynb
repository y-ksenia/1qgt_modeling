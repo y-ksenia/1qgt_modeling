{
 "cells": [
  {
   "cell_type": "code",
   "execution_count": 12,
   "metadata": {},
   "outputs": [],
   "source": [
    "import sys\n",
    "import string\n",
    "import os\n",
    "import numpy as np\n",
    "from math import pi\n",
    "import scipy.stats\n",
    "import warnings\n",
    "import matplotlib as mpl\n",
    "import matplotlib.pyplot as plt\n",
    "from tqdm import tqdm\n",
    "\n",
    "from bokeh.layouts import gridplot\n",
    "from bokeh.plotting import output_file, figure, show\n",
    "from bokeh.palettes import inferno\n",
    "from bokeh.models import Label\n",
    "from bokeh.models import Range1d\n",
    "from bokeh.io import export_png\n",
    "from bokeh.core.properties import value\n",
    "from bokeh.models import ColumnDataSource\n",
    "from bokeh.transform import dodge\n",
    "%matplotlib inline\n",
    "warnings.filterwarnings('ignore')"
   ]
  },
  {
   "cell_type": "code",
   "execution_count": 2,
   "metadata": {},
   "outputs": [
    {
     "data": {
      "text/plain": [
       "<Figure size 432x288 with 0 Axes>"
      ]
     },
     "metadata": {},
     "output_type": "display_data"
    }
   ],
   "source": [
    "fig = plt.figure()\n",
    "mpl.rcParams['figure.figsize'] = (8.0, 6.0)"
   ]
  },
  {
   "cell_type": "code",
   "execution_count": 3,
   "metadata": {},
   "outputs": [
    {
     "name": "stdout",
     "output_type": "stream",
     "text": [
      "Length = 500bp\n",
      "Length = 1000bp\n",
      "Length = 2000bp\n",
      "Length = 4000bp\n",
      "Length = 6000bp\n",
      "Length = 8000bp\n",
      "Length = 10000bp\n"
     ]
    }
   ],
   "source": [
    "#Different lengths\n",
    "mM = 50\n",
    "lengths = ['500','1000','2000','4000','6000','8000','10000']\n",
    "colors = inferno(len(lengths)+1)\n",
    "\n",
    "p1 = figure(toolbar_location = None,\n",
    "           x_axis_label='Radius of compression, nm', y_axis_label='Number of layers', \n",
    "           plot_width=800, plot_height=600,\n",
    "           x_range = (4, 31), y_range = (0.8,8.2))\n",
    "p1.xaxis.axis_label_text_font_size = \"22pt\"\n",
    "p1.xaxis.major_label_text_font_size = \"18pt\"\n",
    "p1.yaxis.axis_label_text_font_size = \"22pt\"\n",
    "p1.yaxis.major_label_text_font_size = \"18pt\"\n",
    "p2 = figure(toolbar_location = None,\n",
    "           x_axis_label='Radius of compression, nm', y_axis_label='Interlayer distance, nm', \n",
    "           plot_width=800, plot_height=600,\n",
    "           x_range = (4, 31), y_range = (1.2, 12.8))\n",
    "p2.xaxis.axis_label_text_font_size = \"22pt\"\n",
    "p2.xaxis.major_label_text_font_size = \"18pt\"\n",
    "p2.yaxis.axis_label_text_font_size = \"22pt\"\n",
    "p2.yaxis.major_label_text_font_size = \"18pt\"\n",
    "# leg = \"Mean squared error: %.2f\\t\" % err + 'Variance score: %.2f' % var_score\n",
    "# mytext = Label(x=70, y=70, text=leg)\n",
    "for bp,c in zip(lengths,colors):\n",
    "    fname = f'../DNA/dsDNA/{bp}bp/{mM}mM/push_from_30nm/dsDNA_{bp}bp_{mM}mM_pressure_push.dat'\n",
    "    with open(fname, 'r') as fh:\n",
    "        max_frame = int(fh.readlines()[-1].split()[0]) // 10000\n",
    "    rads = np.array([float(i.split('\\t')[1].strip()) for i in open(fname)])[2:]\n",
    "    fname = f'../DNA/dsDNA/{bp}bp/{mM}mM/push_from_30nm/layers.dat'\n",
    "    lay_num =  np.array([float(i.split('\\t')[1].strip()) for i in open(fname)])\n",
    "    lay_dist = np.array([float(i.split('\\t')[2].strip()) for i in open(fname)])\n",
    "    \n",
    "    inds = np.where(rads<=30)[0]\n",
    "    print(f'Length = {bp}bp')\n",
    "    p1.scatter(rads[inds], lay_num[inds], color = c, line_color=None, legend=bp, fill_alpha=0.5, size=5)\n",
    "    p2.scatter(rads[inds], lay_dist[inds], line_color=None, color = c, legend=bp, fill_alpha=0.5, size=5)\n",
    "    \n",
    "p1.legend.label_text_font_size = \"18pt\"\n",
    "p1.legend.location = \"top_left\"\n",
    "p2.legend.label_text_font_size = \"18pt\"\n",
    "p2.legend.location = \"top_left\"\n",
    "# show(p1)\n",
    "# show(p2)\n",
    "# export_png(p1, filename=f'../DNA/dsDNA/plots/lay_num_lengths.png')\n",
    "# export_png(p2, filename=f'../DNA/dsDNA/plots/lay_dist_lengths.png')"
   ]
  },
  {
   "cell_type": "code",
   "execution_count": 4,
   "metadata": {},
   "outputs": [],
   "source": [
    "#For different concentrations\n",
    "bp = 4000\n",
    "mMs = ['0.1','2','5','12','50']\n",
    "colors = inferno(len(mMs)+1)\n",
    "p1 = figure(toolbar_location = None,\n",
    "           x_axis_label='Radius of compression, nm', y_axis_label='Number of layers', \n",
    "           plot_width=800, plot_height=600,\n",
    "           x_range = (9.6, 26.4), y_range = (0.8,8.2))\n",
    "p1.xaxis.axis_label_text_font_size = \"22pt\"\n",
    "p1.xaxis.major_label_text_font_size = \"18pt\"\n",
    "p1.yaxis.axis_label_text_font_size = \"22pt\"\n",
    "p1.yaxis.major_label_text_font_size = \"18pt\"\n",
    "p2 = figure(toolbar_location = None,\n",
    "           x_axis_label='Radius of compression, nm', y_axis_label='Interlayer distance, nm', \n",
    "           plot_width=800, plot_height=600,\n",
    "           x_range = (9.6, 26.4), y_range = (1.2, 12.8))\n",
    "p2.xaxis.axis_label_text_font_size = \"22pt\"\n",
    "p2.xaxis.major_label_text_font_size = \"18pt\"\n",
    "p2.yaxis.axis_label_text_font_size = \"22pt\"\n",
    "p2.yaxis.major_label_text_font_size = \"18pt\"\n",
    "\n",
    "for mM,c in zip(mMs,colors):\n",
    "    fname = f'../DNA/dsDNA/{bp}bp/{mM}mM/push_from_30nm/dsDNA_{bp}bp_{mM}mM_pressure_push.dat'\n",
    "    with open(fname, 'r') as fh:\n",
    "        max_frame = int(fh.readlines()[-1].split()[0]) // 10000\n",
    "    rads = np.array([float(i.split('\\t')[1].strip()) for i in open(fname)])[2:]\n",
    "    fname = f'../DNA/dsDNA/{bp}bp/{mM}mM/push_from_30nm/dist_last_layers.dat'\n",
    "    lay_num =  np.array([float(i.split('\\t')[1].strip()) for i in open(fname)])\n",
    "    lay_dist = np.array([float(i.split('\\t')[2].strip()) for i in open(fname)])\n",
    "    \n",
    "    inds = np.where(rads<=26)[0]\n",
    "\n",
    "    p1.scatter(rads[inds], lay_num[inds], color = c, line_color=None, legend=mM, fill_alpha=0.6, size=5)\n",
    "    p2.scatter(rads[inds], lay_dist[inds], line_color=None, color = c, legend=mM, fill_alpha=0.3, size=5)\n",
    "    \n",
    "p1.legend.label_text_font_size = \"18pt\"\n",
    "p1.legend.location = \"top_left\"\n",
    "p2.legend.label_text_font_size = \"18pt\"\n",
    "p2.legend.location = \"top_left\"\n",
    "# show(p)\n",
    "# export_png(p1, filename=f'../DNA/dsDNA/plots/lay_num_mMs.png')\n",
    "# export_png(p2, filename=f'../DNA/dsDNA/plots/lay_dist_mMs.png')"
   ]
  },
  {
   "cell_type": "code",
   "execution_count": 40,
   "metadata": {},
   "outputs": [
    {
     "name": "stdout",
     "output_type": "stream",
     "text": [
      "[0.97315436 0.02348993 0.0033557  0.         0.         0.        ]\n",
      "[0.2320442  0.74585635 0.02209945 0.         0.         0.        ]\n",
      "[0.         0.82119205 0.17880795 0.         0.         0.        ]\n",
      "[0.         0.         0.         0.82594937 0.17246835 0.00158228]\n",
      "[0.         0.         0.         0.05873926 0.87249284 0.06876791]\n",
      "[0.         0.         0.         0.02099738 0.82808399 0.15091864]\n"
     ]
    },
    {
     "data": {
      "text/plain": [
       "'/home/yagafarova/DNA/dsDNA/plots/num_lay_50-300atm.png'"
      ]
     },
     "execution_count": 40,
     "metadata": {},
     "output_type": "execute_result"
    }
   ],
   "source": [
    "#Histogram for layers (pressure 100-300 atm)\n",
    "mM = '50'\n",
    "lengths = ['500','1000','2000','6000','8000','10000']\n",
    "colors = inferno(len(lengths)+1)\n",
    "to_plot = []\n",
    "\n",
    "nums = np.arange(2,8).astype(str)\n",
    "intervals = np.linspace(-0.3,0.3,len(lengths))\n",
    "\n",
    "p = figure(x_range=nums, x_axis_label='Number of layers', y_axis_label=r'SMTH', \n",
    "        plot_width=800, plot_height=600)\n",
    "p.xaxis.axis_label_text_font_size = \"22pt\"\n",
    "p.xaxis.major_label_text_font_size = \"18pt\"\n",
    "p.yaxis.axis_label_text_font_size = \"22pt\"\n",
    "p.yaxis.major_label_text_font_size = \"18pt\"\n",
    "p.toolbar.logo = None\n",
    "p.toolbar_location = None\n",
    "\n",
    "\n",
    "dl = intervals[-1]-intervals[-2]\n",
    "for i,bp,c in zip(intervals,lengths,colors):\n",
    "    \n",
    "    fname = f'../DNA/dsDNA/{bp}bp/{mM}mM/push_from_30nm/dsDNA_{bp}bp_{mM}mM_pressure_push.dat'\n",
    "    frames = np.array([int(i.split('\\t')[0].strip()) for i in open(fname)]) // 10000\n",
    "    pressure = np.array([float(i.split('\\t')[2].strip())*1.6*9.87 for i in open(fname)])\n",
    "\n",
    "    ind_start = np.where(pressure>=50)[0][0]\n",
    "    ind_stop = np.where(pressure>=300)[0][0]\n",
    "\n",
    "    f_lay = f'../DNA/dsDNA/{bp}bp/{mM}mM/push_from_30nm/layers.dat'\n",
    "    num_lay = np.array([int(i.split('\\t')[1].strip()) for i in open(f_lay)])\n",
    "    to_plot.append(num_lay[(ind_start-1):(ind_stop-1)])\n",
    "    hist, edges = np.histogram(num_lay[(ind_start-1):(ind_stop-1)], bins=np.arange(2,9), density=True)\n",
    "    print(hist)\n",
    "    data = {'nums' : nums,\n",
    "            f'{bp}':hist\n",
    "           }\n",
    "\n",
    "    source = ColumnDataSource(data=data)\n",
    "    p.vbar(x=dodge('nums', i, range=p.x_range), top=f'{bp}', width=dl, source=source,\n",
    "       color=c, legend=value(f\"{bp}\"))\n",
    "\n",
    "\n",
    "p.legend.label_text_font_size = \"18pt\"\n",
    "show(p)\n",
    "export_png(p, filename=f'../DNA/dsDNA/plots/num_lay_50-300atm.png')\n",
    "# bins = np.arange(1.5, 9.5)\n",
    "# plt.hist(to_plot, bins = bins, histtype='bar', label=lengths, normed=True)\n",
    "# plt.legend()\n",
    "# plt.savefig('../DNA/dsDNA/plots/num_lay_50-300atm.png', format='png', dpi=300)\n"
   ]
  },
  {
   "cell_type": "code",
   "execution_count": null,
   "metadata": {},
   "outputs": [],
   "source": []
  }
 ],
 "metadata": {
  "kernelspec": {
   "display_name": "Python 3",
   "language": "python",
   "name": "python3"
  },
  "language_info": {
   "codemirror_mode": {
    "name": "ipython",
    "version": 3
   },
   "file_extension": ".py",
   "mimetype": "text/x-python",
   "name": "python",
   "nbconvert_exporter": "python",
   "pygments_lexer": "ipython3",
   "version": "3.6.5"
  }
 },
 "nbformat": 4,
 "nbformat_minor": 2
}
