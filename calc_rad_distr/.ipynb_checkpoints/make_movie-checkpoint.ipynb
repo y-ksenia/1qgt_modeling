{
 "cells": [
  {
   "cell_type": "code",
   "execution_count": 3,
   "metadata": {},
   "outputs": [],
   "source": [
    "import sys\n",
    "import string\n",
    "import os\n",
    "import numpy as np\n",
    "from math import pi\n",
    "import scipy.stats\n",
    "import warnings\n",
    "import matplotlib as mpl\n",
    "import matplotlib.pyplot as plt\n",
    "from tqdm import tqdm\n",
    "\n",
    "from bokeh.layouts import gridplot\n",
    "from bokeh.plotting import output_file, figure, show\n",
    "from bokeh.palettes import inferno\n",
    "from bokeh.models import Label\n",
    "from bokeh.models import Range1d\n",
    "from bokeh.io import export_png\n",
    "%matplotlib inline\n",
    "warnings.filterwarnings('ignore')"
   ]
  },
  {
   "cell_type": "code",
   "execution_count": 4,
   "metadata": {},
   "outputs": [
    {
     "data": {
      "text/plain": [
       "<matplotlib.figure.Figure at 0x7f30a2a7b240>"
      ]
     },
     "metadata": {},
     "output_type": "display_data"
    }
   ],
   "source": [
    "fig = plt.figure()\n",
    "mpl.rcParams['figure.figsize'] = (10.0, 6.0)"
   ]
  },
  {
   "cell_type": "code",
   "execution_count": 7,
   "metadata": {},
   "outputs": [
    {
     "name": "stdout",
     "output_type": "stream",
     "text": [
      "Write the length of DNA in bp:\n",
      "10000\n"
     ]
    }
   ],
   "source": [
    "print('Write the length of DNA in bp:')\n",
    "bp = int(input().strip())"
   ]
  },
  {
   "cell_type": "code",
   "execution_count": 64,
   "metadata": {},
   "outputs": [
    {
     "data": {
      "text/plain": [
       "array([ 29.995001,  29.99    ,  29.985001, ...,  14.575   ,  14.57    ,\n",
       "        14.565   ])"
      ]
     },
     "execution_count": 64,
     "metadata": {},
     "output_type": "execute_result"
    }
   ],
   "source": [
    "step = 1\n",
    "fname = f'../DNA/dsDNA/{bp}bp/50mM/push_from_30nm/dsDNA_{bp}bp_mM50.0_pressure_push_from_30nm.dat'\n",
    "with open(fname, 'r') as fh:\n",
    "    max_frame = int(fh.readlines()[-1].split()[0]) // 10000\n",
    "rads = np.array([float(i.split('\\t')[1].strip()) for i in open(fname)])\n",
    "rads = rads[2:]\n",
    "rads"
   ]
  },
  {
   "cell_type": "code",
   "execution_count": 65,
   "metadata": {
    "scrolled": true
   },
   "outputs": [
    {
     "name": "stderr",
     "output_type": "stream",
     "text": [
      "\n",
      "  0%|          | 0/3087 [00:00<?, ?it/s]\u001b[A\n",
      "  0%|          | 1/3087 [00:01<1:20:13,  1.56s/it]\u001b[A\n"
     ]
    },
    {
     "ename": "KeyboardInterrupt",
     "evalue": "",
     "output_type": "error",
     "traceback": [
      "\u001b[0;31m---------------------------------------------------------------------------\u001b[0m",
      "\u001b[0;31mKeyboardInterrupt\u001b[0m                         Traceback (most recent call last)",
      "\u001b[0;32m<ipython-input-65-478dd55861a8>\u001b[0m in \u001b[0;36m<module>\u001b[0;34m()\u001b[0m\n\u001b[1;32m     20\u001b[0m         \u001b[0mp\u001b[0m\u001b[0;34m.\u001b[0m\u001b[0mline\u001b[0m\u001b[0;34m(\u001b[0m\u001b[0mx\u001b[0m\u001b[0;34m/\u001b[0m\u001b[0;36m10\u001b[0m\u001b[0;34m,\u001b[0m \u001b[0mdens\u001b[0m\u001b[0;34m/\u001b[0m\u001b[0;36m1e-8\u001b[0m\u001b[0;34m,\u001b[0m \u001b[0mcolor\u001b[0m \u001b[0;34m=\u001b[0m \u001b[0mc\u001b[0m\u001b[0;34m,\u001b[0m \u001b[0mlegend\u001b[0m\u001b[0;34m=\u001b[0m\u001b[0melem\u001b[0m\u001b[0;34m,\u001b[0m \u001b[0mline_width\u001b[0m \u001b[0;34m=\u001b[0m \u001b[0;36m5\u001b[0m\u001b[0;34m)\u001b[0m\u001b[0;34m\u001b[0m\u001b[0m\n\u001b[1;32m     21\u001b[0m     \u001b[0mp\u001b[0m\u001b[0;34m.\u001b[0m\u001b[0mlegend\u001b[0m\u001b[0;34m.\u001b[0m\u001b[0mlabel_text_font_size\u001b[0m \u001b[0;34m=\u001b[0m \u001b[0;34m\"18pt\"\u001b[0m\u001b[0;34m\u001b[0m\u001b[0m\n\u001b[0;32m---> 22\u001b[0;31m     \u001b[0mexport_png\u001b[0m\u001b[0;34m(\u001b[0m\u001b[0mp\u001b[0m\u001b[0;34m,\u001b[0m \u001b[0mfilename\u001b[0m\u001b[0;34m=\u001b[0m\u001b[0;34mf'../DNA/dsDNA/{bp}bp/50mM/plots/movie/{frame}.png'\u001b[0m\u001b[0;34m)\u001b[0m\u001b[0;34m\u001b[0m\u001b[0m\n\u001b[0m\u001b[1;32m     23\u001b[0m \u001b[0;34m\u001b[0m\u001b[0m\n",
      "\u001b[0;32m~/anaconda3/lib/python3.6/site-packages/bokeh/util/api.py\u001b[0m in \u001b[0;36mwrapper\u001b[0;34m(*args, **kw)\u001b[0m\n\u001b[1;32m    188\u001b[0m         \u001b[0;34m@\u001b[0m\u001b[0mwraps\u001b[0m\u001b[0;34m(\u001b[0m\u001b[0mobj\u001b[0m\u001b[0;34m)\u001b[0m\u001b[0;34m\u001b[0m\u001b[0m\n\u001b[1;32m    189\u001b[0m         \u001b[0;32mdef\u001b[0m \u001b[0mwrapper\u001b[0m\u001b[0;34m(\u001b[0m\u001b[0;34m*\u001b[0m\u001b[0margs\u001b[0m\u001b[0;34m,\u001b[0m \u001b[0;34m**\u001b[0m\u001b[0mkw\u001b[0m\u001b[0;34m)\u001b[0m\u001b[0;34m:\u001b[0m\u001b[0;34m\u001b[0m\u001b[0m\n\u001b[0;32m--> 190\u001b[0;31m             \u001b[0;32mreturn\u001b[0m \u001b[0mobj\u001b[0m\u001b[0;34m(\u001b[0m\u001b[0;34m*\u001b[0m\u001b[0margs\u001b[0m\u001b[0;34m,\u001b[0m \u001b[0;34m**\u001b[0m\u001b[0mkw\u001b[0m\u001b[0;34m)\u001b[0m\u001b[0;34m\u001b[0m\u001b[0m\n\u001b[0m\u001b[1;32m    191\u001b[0m \u001b[0;34m\u001b[0m\u001b[0m\n\u001b[1;32m    192\u001b[0m         \u001b[0mwrapper\u001b[0m\u001b[0;34m.\u001b[0m\u001b[0m__bkversion__\u001b[0m \u001b[0;34m=\u001b[0m \u001b[0mversion\u001b[0m\u001b[0;34m\u001b[0m\u001b[0m\n",
      "\u001b[0;32m~/anaconda3/lib/python3.6/site-packages/bokeh/io/export.py\u001b[0m in \u001b[0;36mexport_png\u001b[0;34m(obj, filename, height, width, webdriver)\u001b[0m\n\u001b[1;32m     81\u001b[0m     '''\n\u001b[1;32m     82\u001b[0m \u001b[0;34m\u001b[0m\u001b[0m\n\u001b[0;32m---> 83\u001b[0;31m     \u001b[0mimage\u001b[0m \u001b[0;34m=\u001b[0m \u001b[0mget_screenshot_as_png\u001b[0m\u001b[0;34m(\u001b[0m\u001b[0mobj\u001b[0m\u001b[0;34m,\u001b[0m \u001b[0mheight\u001b[0m\u001b[0;34m=\u001b[0m\u001b[0mheight\u001b[0m\u001b[0;34m,\u001b[0m \u001b[0mwidth\u001b[0m\u001b[0;34m=\u001b[0m\u001b[0mwidth\u001b[0m\u001b[0;34m,\u001b[0m \u001b[0mdriver\u001b[0m\u001b[0;34m=\u001b[0m\u001b[0mwebdriver\u001b[0m\u001b[0;34m)\u001b[0m\u001b[0;34m\u001b[0m\u001b[0m\n\u001b[0m\u001b[1;32m     84\u001b[0m \u001b[0;34m\u001b[0m\u001b[0m\n\u001b[1;32m     85\u001b[0m     \u001b[0;32mif\u001b[0m \u001b[0mfilename\u001b[0m \u001b[0;32mis\u001b[0m \u001b[0;32mNone\u001b[0m\u001b[0;34m:\u001b[0m\u001b[0;34m\u001b[0m\u001b[0m\n",
      "\u001b[0;32m~/anaconda3/lib/python3.6/site-packages/bokeh/util/api.py\u001b[0m in \u001b[0;36mwrapper\u001b[0;34m(*args, **kw)\u001b[0m\n\u001b[1;32m    188\u001b[0m         \u001b[0;34m@\u001b[0m\u001b[0mwraps\u001b[0m\u001b[0;34m(\u001b[0m\u001b[0mobj\u001b[0m\u001b[0;34m)\u001b[0m\u001b[0;34m\u001b[0m\u001b[0m\n\u001b[1;32m    189\u001b[0m         \u001b[0;32mdef\u001b[0m \u001b[0mwrapper\u001b[0m\u001b[0;34m(\u001b[0m\u001b[0;34m*\u001b[0m\u001b[0margs\u001b[0m\u001b[0;34m,\u001b[0m \u001b[0;34m**\u001b[0m\u001b[0mkw\u001b[0m\u001b[0;34m)\u001b[0m\u001b[0;34m:\u001b[0m\u001b[0;34m\u001b[0m\u001b[0m\n\u001b[0;32m--> 190\u001b[0;31m             \u001b[0;32mreturn\u001b[0m \u001b[0mobj\u001b[0m\u001b[0;34m(\u001b[0m\u001b[0;34m*\u001b[0m\u001b[0margs\u001b[0m\u001b[0;34m,\u001b[0m \u001b[0;34m**\u001b[0m\u001b[0mkw\u001b[0m\u001b[0;34m)\u001b[0m\u001b[0;34m\u001b[0m\u001b[0m\n\u001b[0m\u001b[1;32m    191\u001b[0m \u001b[0;34m\u001b[0m\u001b[0m\n\u001b[1;32m    192\u001b[0m         \u001b[0mwrapper\u001b[0m\u001b[0;34m.\u001b[0m\u001b[0m__bkversion__\u001b[0m \u001b[0;34m=\u001b[0m \u001b[0mversion\u001b[0m\u001b[0;34m\u001b[0m\u001b[0m\n",
      "\u001b[0;32m~/anaconda3/lib/python3.6/site-packages/bokeh/io/export.py\u001b[0m in \u001b[0;36mget_screenshot_as_png\u001b[0;34m(obj, driver, **kwargs)\u001b[0m\n\u001b[1;32m    169\u001b[0m     \u001b[0mhtml_path\u001b[0m \u001b[0;34m=\u001b[0m \u001b[0msave_layout_html\u001b[0m\u001b[0;34m(\u001b[0m\u001b[0mobj\u001b[0m\u001b[0;34m,\u001b[0m \u001b[0;34m**\u001b[0m\u001b[0mkwargs\u001b[0m\u001b[0;34m)\u001b[0m\u001b[0;34m\u001b[0m\u001b[0m\n\u001b[1;32m    170\u001b[0m \u001b[0;34m\u001b[0m\u001b[0m\n\u001b[0;32m--> 171\u001b[0;31m     \u001b[0mweb_driver\u001b[0m \u001b[0;34m=\u001b[0m \u001b[0mdriver\u001b[0m \u001b[0;32mif\u001b[0m \u001b[0mdriver\u001b[0m \u001b[0;32mis\u001b[0m \u001b[0;32mnot\u001b[0m \u001b[0;32mNone\u001b[0m \u001b[0;32melse\u001b[0m \u001b[0mwebdriver\u001b[0m\u001b[0;34m.\u001b[0m\u001b[0mPhantomJS\u001b[0m\u001b[0;34m(\u001b[0m\u001b[0mservice_log_path\u001b[0m\u001b[0;34m=\u001b[0m\u001b[0mdevnull\u001b[0m\u001b[0;34m)\u001b[0m\u001b[0;34m\u001b[0m\u001b[0m\n\u001b[0m\u001b[1;32m    172\u001b[0m \u001b[0;34m\u001b[0m\u001b[0m\n\u001b[1;32m    173\u001b[0m     \u001b[0mweb_driver\u001b[0m\u001b[0;34m.\u001b[0m\u001b[0mget\u001b[0m\u001b[0;34m(\u001b[0m\u001b[0;34m\"file:///\"\u001b[0m \u001b[0;34m+\u001b[0m \u001b[0mhtml_path\u001b[0m\u001b[0;34m)\u001b[0m\u001b[0;34m\u001b[0m\u001b[0m\n",
      "\u001b[0;32m~/anaconda3/lib/python3.6/site-packages/selenium/webdriver/phantomjs/webdriver.py\u001b[0m in \u001b[0;36m__init__\u001b[0;34m(self, executable_path, port, desired_capabilities, service_args, service_log_path)\u001b[0m\n\u001b[1;32m     54\u001b[0m             \u001b[0mservice_args\u001b[0m\u001b[0;34m=\u001b[0m\u001b[0mservice_args\u001b[0m\u001b[0;34m,\u001b[0m\u001b[0;34m\u001b[0m\u001b[0m\n\u001b[1;32m     55\u001b[0m             log_path=service_log_path)\n\u001b[0;32m---> 56\u001b[0;31m         \u001b[0mself\u001b[0m\u001b[0;34m.\u001b[0m\u001b[0mservice\u001b[0m\u001b[0;34m.\u001b[0m\u001b[0mstart\u001b[0m\u001b[0;34m(\u001b[0m\u001b[0;34m)\u001b[0m\u001b[0;34m\u001b[0m\u001b[0m\n\u001b[0m\u001b[1;32m     57\u001b[0m \u001b[0;34m\u001b[0m\u001b[0m\n\u001b[1;32m     58\u001b[0m         \u001b[0;32mtry\u001b[0m\u001b[0;34m:\u001b[0m\u001b[0;34m\u001b[0m\u001b[0m\n",
      "\u001b[0;32m~/anaconda3/lib/python3.6/site-packages/selenium/webdriver/common/service.py\u001b[0m in \u001b[0;36mstart\u001b[0;34m(self)\u001b[0m\n\u001b[1;32m    100\u001b[0m                 \u001b[0;32mbreak\u001b[0m\u001b[0;34m\u001b[0m\u001b[0m\n\u001b[1;32m    101\u001b[0m             \u001b[0mcount\u001b[0m \u001b[0;34m+=\u001b[0m \u001b[0;36m1\u001b[0m\u001b[0;34m\u001b[0m\u001b[0m\n\u001b[0;32m--> 102\u001b[0;31m             \u001b[0mtime\u001b[0m\u001b[0;34m.\u001b[0m\u001b[0msleep\u001b[0m\u001b[0;34m(\u001b[0m\u001b[0;36m1\u001b[0m\u001b[0;34m)\u001b[0m\u001b[0;34m\u001b[0m\u001b[0m\n\u001b[0m\u001b[1;32m    103\u001b[0m             \u001b[0;32mif\u001b[0m \u001b[0mcount\u001b[0m \u001b[0;34m==\u001b[0m \u001b[0;36m30\u001b[0m\u001b[0;34m:\u001b[0m\u001b[0;34m\u001b[0m\u001b[0m\n\u001b[1;32m    104\u001b[0m                 \u001b[0;32mraise\u001b[0m \u001b[0mWebDriverException\u001b[0m\u001b[0;34m(\u001b[0m\u001b[0;34m\"Can not connect to the Service %s\"\u001b[0m \u001b[0;34m%\u001b[0m \u001b[0mself\u001b[0m\u001b[0;34m.\u001b[0m\u001b[0mpath\u001b[0m\u001b[0;34m)\u001b[0m\u001b[0;34m\u001b[0m\u001b[0m\n",
      "\u001b[0;31mKeyboardInterrupt\u001b[0m: "
     ]
    }
   ],
   "source": [
    "#Считываем посчитанное радиальноe распределение\n",
    "if not os.path.exists(f'../DNA/dsDNA/{bp}bp/50mM/plots'):\n",
    "        os.mkdir(f'../DNA/dsDNA/{bp}bp/50mM/plots')\n",
    "        os.mkdir(f'../DNA/dsDNA/{bp}bp/50mM/plots/movie')\n",
    "elems = ['DNA', 'Na']#,'Na','Cl']\n",
    "x = np.arange(10,600)\n",
    "for frame in tqdm(range(0, max_frame, 1)):\n",
    "    #Параметры для графика BOKEH\n",
    "    p = figure(x_axis_label='Distance, nm', y_axis_label=r'Density ⋅1e-8', \n",
    "            plot_width=800, plot_height=600,\n",
    "           x_range = (0, 30), y_range = (0,15))\n",
    "    p.xaxis.axis_label_text_font_size = \"22pt\"\n",
    "    p.xaxis.major_label_text_font_size = \"18pt\"\n",
    "    p.yaxis.axis_label_text_font_size = \"22pt\"\n",
    "    p.yaxis.major_label_text_font_size = \"18pt\"\n",
    "    colors = inferno(3+1)\n",
    "    for c, elem in zip(colors,elems):\n",
    "        fname = f'../DNA/dsDNA/{bp}bp/50mM/{elem}_rad_distr/{frame}.dat'\n",
    "        dens = np.array([float(i.split('\\t')[1].strip()) for i in open(fname)])\n",
    "        p.line(x/10, dens/1e-8, color = c, legend=elem, line_width = 5)\n",
    "    p.legend.label_text_font_size = \"18pt\"\n",
    "    export_png(p, filename=f'../DNA/dsDNA/{bp}bp/50mM/plots/movie/{frame}.png')\n",
    "    "
   ]
  },
  {
   "cell_type": "code",
   "execution_count": 26,
   "metadata": {},
   "outputs": [
    {
     "name": "stderr",
     "output_type": "stream",
     "text": [
      "\n",
      "  0%|          | 0/155 [00:00<?, ?it/s]\u001b[A\n",
      "  1%|          | 1/155 [00:00<00:34,  4.44it/s]\u001b[A\n",
      "  1%|▏         | 2/155 [00:00<00:31,  4.85it/s]\u001b[A\n",
      "  2%|▏         | 3/155 [00:00<00:30,  4.99it/s]\u001b[A\n",
      "  3%|▎         | 4/155 [00:00<00:29,  5.10it/s]\u001b[A\n",
      "  3%|▎         | 5/155 [00:00<00:29,  5.13it/s]\u001b[A\n",
      "  4%|▍         | 6/155 [00:01<00:28,  5.18it/s]\u001b[A\n",
      "  5%|▍         | 7/155 [00:01<00:28,  5.20it/s]\u001b[A\n",
      "  5%|▌         | 8/155 [00:01<00:28,  5.23it/s]\u001b[A\n",
      "  6%|▌         | 9/155 [00:01<00:27,  5.27it/s]\u001b[A\n",
      "  6%|▋         | 10/155 [00:01<00:27,  5.27it/s]\u001b[A\n",
      "  7%|▋         | 11/155 [00:02<00:27,  5.27it/s]\u001b[A\n",
      "  8%|▊         | 12/155 [00:02<00:27,  5.26it/s]\u001b[A\n",
      "  8%|▊         | 13/155 [00:02<00:26,  5.26it/s]\u001b[A\n",
      "  9%|▉         | 14/155 [00:02<00:26,  5.27it/s]\u001b[A\n",
      " 10%|▉         | 15/155 [00:02<00:26,  5.28it/s]\u001b[A\n",
      " 10%|█         | 16/155 [00:03<00:26,  5.27it/s]\u001b[A\n",
      " 11%|█         | 17/155 [00:03<00:26,  5.28it/s]\u001b[A\n",
      " 12%|█▏        | 18/155 [00:03<00:25,  5.31it/s]\u001b[A\n",
      " 12%|█▏        | 19/155 [00:03<00:25,  5.31it/s]\u001b[A\n",
      " 13%|█▎        | 20/155 [00:03<00:25,  5.33it/s]\u001b[A\n",
      " 14%|█▎        | 21/155 [00:03<00:25,  5.34it/s]\u001b[A\n",
      " 14%|█▍        | 22/155 [00:04<00:24,  5.34it/s]\u001b[A\n",
      " 15%|█▍        | 23/155 [00:04<00:24,  5.36it/s]\u001b[A\n",
      " 15%|█▌        | 24/155 [00:04<00:24,  5.37it/s]\u001b[A\n",
      " 16%|█▌        | 25/155 [00:04<00:24,  5.39it/s]\u001b[A\n",
      " 17%|█▋        | 26/155 [00:04<00:23,  5.40it/s]\u001b[A\n",
      " 17%|█▋        | 27/155 [00:04<00:23,  5.41it/s]\u001b[A\n",
      " 18%|█▊        | 28/155 [00:05<00:23,  5.43it/s]\u001b[A\n",
      " 19%|█▊        | 29/155 [00:05<00:23,  5.43it/s]\u001b[A\n",
      " 19%|█▉        | 30/155 [00:05<00:23,  5.42it/s]\u001b[A\n",
      " 20%|██        | 31/155 [00:05<00:22,  5.41it/s]\u001b[A\n",
      " 21%|██        | 32/155 [00:05<00:22,  5.40it/s]\u001b[A\n",
      " 21%|██▏       | 33/155 [00:06<00:22,  5.40it/s]\u001b[A\n",
      " 22%|██▏       | 34/155 [00:06<00:22,  5.40it/s]\u001b[A\n",
      " 23%|██▎       | 35/155 [00:06<00:22,  5.40it/s]\u001b[A\n",
      " 23%|██▎       | 36/155 [00:06<00:22,  5.36it/s]\u001b[A\n",
      " 24%|██▍       | 37/155 [00:06<00:22,  5.29it/s]\u001b[A\n",
      " 25%|██▍       | 38/155 [00:07<00:22,  5.30it/s]\u001b[A\n",
      " 25%|██▌       | 39/155 [00:07<00:21,  5.28it/s]\u001b[A\n",
      " 26%|██▌       | 40/155 [00:07<00:21,  5.28it/s]\u001b[A\n",
      " 26%|██▋       | 41/155 [00:07<00:21,  5.28it/s]\u001b[A\n",
      " 27%|██▋       | 42/155 [00:07<00:21,  5.28it/s]\u001b[A\n",
      " 28%|██▊       | 43/155 [00:08<00:21,  5.28it/s]\u001b[A\n",
      " 28%|██▊       | 44/155 [00:08<00:21,  5.28it/s]\u001b[A\n",
      " 29%|██▉       | 45/155 [00:08<00:20,  5.29it/s]\u001b[A\n",
      " 30%|██▉       | 46/155 [00:08<00:20,  5.28it/s]\u001b[A\n",
      " 30%|███       | 47/155 [00:08<00:20,  5.28it/s]\u001b[A\n",
      " 31%|███       | 48/155 [00:09<00:20,  5.29it/s]\u001b[A\n",
      " 32%|███▏      | 49/155 [00:09<00:20,  5.29it/s]\u001b[A\n",
      "100%|██████████| 155/155 [00:28<00:00,  5.43it/s]\n"
     ]
    },
    {
     "data": {
      "text/plain": [
       "<matplotlib.figure.Figure at 0x7f54677f8898>"
      ]
     },
     "metadata": {},
     "output_type": "display_data"
    }
   ],
   "source": [
    "fname = f'../DNA_packaging/dsDNA/mM50_length/10000bp/push_from_30nm/dsDNA_10000bp_mM50.0_pressure_push_from_30nm.dat'\n",
    "with open(fname, 'r') as fh:\n",
    "    max_frame = int(fh.readlines()[-1].split()[0]) // 10000\n",
    "\n",
    "elem = 'DNA'\n",
    "\n",
    "if not os.path.exists(f'dsDNA_10000bp_mM50/plots_new'):\n",
    "        os.mkdir(f'dsDNA_10000bp_mM50/plots_new')\n",
    "# x = np.arange(10,600)\n",
    "fig = plt.figure(figsize=(15,10))\n",
    "for frame in tqdm(range(0, max_frame, 20)):\n",
    "    fname = f'dsDNA_10000bp_mM50/{elem}_rad_distr_new/{frame}.dat'\n",
    "    dens = np.array([float(i.split('\\t')[1].strip()) for i in open(fname)])\n",
    "    x = np.array([float(i.split('\\t')[0].strip()) for i in open(fname)])\n",
    "    plt.plot(x/10., dens, linewidth = 2)\n",
    "#     plt.ylim(0,1.5e-7)\n",
    "    plt.xlim(0,60)\n",
    "    plt.savefig(f'dsDNA_10000bp_mM50/plots_new/{frame}.png')\n",
    "    plt.clf()\n"
   ]
  },
  {
   "cell_type": "code",
   "execution_count": 66,
   "metadata": {},
   "outputs": [
    {
     "data": {
      "text/plain": [
       "[<matplotlib.lines.Line2D at 0x7f3063385be0>]"
      ]
     },
     "execution_count": 66,
     "metadata": {},
     "output_type": "execute_result"
    },
    {
     "data": {
      "image/png": "[encoded data removed]",
      "text/plain": [
       "<matplotlib.figure.Figure at 0x7f30633858d0>"
      ]
     },
     "metadata": {},
     "output_type": "display_data"
    }
   ],
   "source": [
    "fname = f'../DNA/dsDNA/{bp}bp/50mM/layers_test.dat'\n",
    "lay_num =  np.array([float(i.split('\\t')[1].strip()) for i in open(fname)])\n",
    "lay_dist = np.array([float(i.split('\\t')[2].strip()) for i in open(fname)])\n",
    "plt.plot(rads, lay_num, linewidth = 2)\n",
    "plt.xlabel('Radius of compresion, nm', size=14)\n",
    "plt.ylabel('Number of layers', size=14)\n",
    "# plt.savefig('num_lay.png', dpi=300)\n",
    "# plt.xlim(10,30)?\n",
    "#plt.ylim(0,7)\n",
    "plt.plot(rads, lay_dist, linewidth = 2)"
   ]
  },
  {
   "cell_type": "code",
   "execution_count": 74,
   "metadata": {},
   "outputs": [
    {
     "data": {
      "text/plain": [
       "'/home/yagafarova/DNA/dsDNA/10000bp/50mM/plots/lay_num.png'"
      ]
     },
     "execution_count": 74,
     "metadata": {},
     "output_type": "execute_result"
    }
   ],
   "source": [
    "p = figure(x_axis_label='Radius of compression, nm', y_axis_label='Number of layers', \n",
    "        plot_width=800, plot_height=600)\n",
    "p.xaxis.axis_label_text_font_size = \"22pt\"\n",
    "p.xaxis.major_label_text_font_size = \"18pt\"\n",
    "p.yaxis.axis_label_text_font_size = \"22pt\"\n",
    "p.yaxis.major_label_text_font_size = \"18pt\"\n",
    "c = inferno(3+1)[1]\n",
    "p.line(rads, lay_num, color = c, line_width = 5)\n",
    "p.legend.label_text_font_size = \"18pt\"\n",
    "export_png(p, filename=f'../DNA/dsDNA/{bp}bp/50mM/plots/lay_num.png')\n",
    "# show(p)"
   ]
  },
  {
   "cell_type": "code",
   "execution_count": null,
   "metadata": {},
   "outputs": [],
   "source": [
    "    p = figure(x_axis_label='Distance, nm', y_axis_label=r'Density ⋅1e-8', \n",
    "            plot_width=800, plot_height=600,\n",
    "           x_range = (0, 30), y_range = (0,15))\n",
    "    p.xaxis.axis_label_text_font_size = \"22pt\"\n",
    "    p.xaxis.major_label_text_font_size = \"18pt\"\n",
    "    p.yaxis.axis_label_text_font_size = \"22pt\"\n",
    "    p.yaxis.major_label_text_font_size = \"18pt\"\n",
    "    colors = inferno(3+1)\n",
    "    for c, elem in zip(colors,elems):\n",
    "        fname = f'../DNA/dsDNA/{bp}bp/50mM/{elem}_rad_distr/{frame}.dat'\n",
    "        dens = np.array([float(i.split('\\t')[1].strip()) for i in open(fname)])\n",
    "        p.line(x/10, dens/1e-8, color = c, legend=elem, line_width = 5)\n",
    "    p.legend.label_text_font_size = \"18pt\"\n",
    "    export_png(p, filename=f'../DNA/dsDNA/{bp}bp/50mM/plots/movie/{frame}.png')"
   ]
  }
 ],
 "metadata": {
  "kernelspec": {
   "display_name": "Python 3",
   "language": "python",
   "name": "python3"
  },
  "language_info": {
   "codemirror_mode": {
    "name": "ipython",
    "version": 3
   },
   "file_extension": ".py",
   "mimetype": "text/x-python",
   "name": "python",
   "nbconvert_exporter": "python",
   "pygments_lexer": "ipython3",
   "version": "3.6.4"
  }
 },
 "nbformat": 4,
 "nbformat_minor": 2
}
