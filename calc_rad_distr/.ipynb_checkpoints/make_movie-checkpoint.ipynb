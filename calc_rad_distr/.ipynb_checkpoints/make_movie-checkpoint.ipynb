{
 "cells": [
  {
   "cell_type": "code",
   "execution_count": 1,
   "metadata": {},
   "outputs": [],
   "source": [
    "import sys\n",
    "import string\n",
    "import os\n",
    "import numpy as np\n",
    "from math import pi\n",
    "import scipy.stats\n",
    "import warnings\n",
    "import matplotlib as mpl\n",
    "import matplotlib.pyplot as plt\n",
    "from tqdm import tqdm\n",
    "\n",
    "from bokeh.layouts import gridplot\n",
    "from bokeh.plotting import output_file, figure, show\n",
    "from bokeh.palettes import inferno\n",
    "from bokeh.models import Label\n",
    "from bokeh.models import Range1d\n",
    "from bokeh.io import export_png\n",
    "%matplotlib inline\n",
    "warnings.filterwarnings('ignore')"
   ]
  },
  {
   "cell_type": "code",
   "execution_count": 2,
   "metadata": {},
   "outputs": [
    {
     "data": {
      "text/plain": [
       "<matplotlib.figure.Figure at 0x7f413460f048>"
      ]
     },
     "metadata": {},
     "output_type": "display_data"
    }
   ],
   "source": [
    "fig = plt.figure()\n",
    "mpl.rcParams['figure.figsize'] = (10.0, 6.0)"
   ]
  },
  {
   "cell_type": "code",
   "execution_count": null,
   "metadata": {},
   "outputs": [],
   "source": [
    "print('Write the length of DNA in bp:')\n",
    "bp = int(input().strip())\n",
    "print('Write the concentration of NaCl in system:')\n",
    "mM = int(input().strip())\n",
    "step = 1\n",
    "fname = f'../DNA/dsDNA/{bp}bp/{mM}mM/push_from_30nm/dsDNA_{bp}bp_{mM}mM_pressure_push.dat'\n",
    "\n",
    "rads = np.array([float(i.split('\\t')[1].strip()) for i in open(fname)])\n",
    "frames = np.array([int(i.split('\\t')[0].strip()) for i in open(fname)]) // 10000"
   ]
  },
  {
   "cell_type": "code",
   "execution_count": null,
   "metadata": {
    "scrolled": true
   },
   "outputs": [
    {
     "name": "stderr",
     "output_type": "stream",
     "text": [
      " 33%|███▎      | 296/903 [07:36<15:36,  1.54s/it]"
     ]
    }
   ],
   "source": [
    "#Check radial distribution for trajectories\n",
    "bp = 4000\n",
    "mM = 50\n",
    "if not os.path.exists(f'../DNA/dsDNA/plots'):\n",
    "    os.mkdir(f'../DNA/dsDNA/plots')\n",
    "if not os.path.exists(f'../DNA/dsDNA/plots/rad_distr_traj'):\n",
    "    os.mkdir(f'../DNA/dsDNA/plots/rad_distr_traj')\n",
    "# elems = ['DNA']\n",
    "runs = ['1','2','3','4','5']\n",
    "\n",
    "for frame in tqdm(range(0,9030,10)):\n",
    "    #Параметры для графика BOKEH\n",
    "    p = figure(x_axis_label='r, nm', y_axis_label=r'g(r)', \n",
    "            plot_width=800, plot_height=600,\n",
    "           x_range = (0, 61), y_range = (0, 0.022))\n",
    "    p.xaxis.axis_label_text_font_size = \"22pt\"\n",
    "    p.xaxis.major_label_text_font_size = \"18pt\"\n",
    "    p.yaxis.axis_label_text_font_size = \"22pt\"\n",
    "    p.yaxis.major_label_text_font_size = \"18pt\"\n",
    "    p.toolbar.logo = None\n",
    "    p.toolbar_location = None\n",
    "    colors = inferno(len(runs)+1)\n",
    "    for c, run in zip(colors,runs):\n",
    "        x = np.arange(1,600)\n",
    "        fname = f'../DNA/dsDNA/{bp}bp/{mM}mM/push_100k_steps/rad_distr/run_{run}/DNA/{frame}.dat'\n",
    "        dens = np.array([float(i.split('\\t')[1].strip()) for i in open(fname)])\n",
    "#         print(len(dens))\n",
    "        p.line(x/10, dens, color = c, legend=run, line_width = 5)\n",
    "    p.legend.label_text_font_size = \"18pt\"\n",
    "    export_png(p, filename=f'../DNA/dsDNA/plots/rad_distr_traj/{frame//10}.png')\n",
    "    "
   ]
  },
  {
   "cell_type": "code",
   "execution_count": null,
   "metadata": {},
   "outputs": [],
   "source": [
    "#Check radial distribution for different mMs\n",
    "if not os.path.exists(f'../DNA/dsDNA/plots/rad_distr_mMs'):\n",
    "    os.mkdir(f'../DNA/dsDNA/plots/rad_distr_mMs')\n",
    "elems = ['DNA','Na','Cl']\n",
    "for \n",
    "for frame in tqdm(range(max_frame-11, max_frame, 10)):\n",
    "    #Параметры для графика BOKEH\n",
    "    p = figure(x_axis_label='r, nm', y_axis_label=r'g(r)', \n",
    "            plot_width=800, plot_height=600,\n",
    "           x_range = (0, 32), y_range = (0, 0.022))\n",
    "    p.xaxis.axis_label_text_font_size = \"22pt\"\n",
    "    p.xaxis.major_label_text_font_size = \"18pt\"\n",
    "    p.yaxis.axis_label_text_font_size = \"22pt\"\n",
    "    p.yaxis.major_label_text_font_size = \"18pt\"\n",
    "    p.toolbar.logo = None\n",
    "    p.toolbar_location = None\n",
    "    lengths = ['1000','6000','10000']\n",
    "    colors = inferno(len(lengths)+1)\n",
    "    for c, bp in zip(colors, lengths):\n",
    "        fname1 = f'../DNA/dsDNA/{bp}bp/{mM}mM/push_from_30nm/rad_distr/{elem}/{frame}.dat'\n",
    "        fname2 = f'../DNA/dsDNA/{bp}bp/{mM}mM/push_from_30nm/rad_distr/{elem}/{frame}.dat'\n",
    "        dens = np.array([float(i.split('\\t')[1].strip()) for i in open(fname1)])\n",
    "        p.line(x/10, dens, color = c, legend=bp, line_width = 3)\n",
    "    p.legend.label_text_font_size = \"18pt\"\n",
    "show(p)\n",
    "#     export_png(p, filename=f'../DNA/dsDNA/{bp}bp/{mM}mM/push_from_30nm/plots/rad_distr/{frame}.png')\n",
    "    "
   ]
  },
  {
   "cell_type": "code",
   "execution_count": null,
   "metadata": {},
   "outputs": [],
   "source": [
    "fname = f'../DNA_packaging/dsDNA/mM50_length/10000bp/push_from_30nm/dsDNA_10000bp_mM50.0_pressure_push_from_30nm.dat'\n",
    "with open(fname, 'r') as fh:\n",
    "    max_frame = int(fh.readlines()[-1].split()[0]) // 10000\n",
    "\n",
    "elem = 'DNA'\n",
    "\n",
    "if not os.path.exists(f'dsDNA_10000bp_mM50/plots_new'):\n",
    "        os.mkdir(f'dsDNA_10000bp_mM50/plots_new')\n",
    "# x = np.arange(10,600)\n",
    "fig = plt.figure(figsize=(15,10))\n",
    "for frame in tqdm(range(0, max_frame, 20)):\n",
    "    fname = f'dsDNA_10000bp_mM50/{elem}_rad_distr_new/{frame}.dat'\n",
    "    dens = np.array([float(i.split('\\t')[1].strip()) for i in open(fname)])\n",
    "    x = np.array([float(i.split('\\t')[0].strip()) for i in open(fname)])\n",
    "    plt.plot(x/10., dens, linewidth = 2)\n",
    "#     plt.ylim(0,1.5e-7)\n",
    "    plt.xlim(0,60)\n",
    "    plt.savefig(f'dsDNA_10000bp_mM50/plots_new/{frame}.png')\n",
    "    plt.clf()\n"
   ]
  },
  {
   "cell_type": "code",
   "execution_count": null,
   "metadata": {},
   "outputs": [],
   "source": []
  }
 ],
 "metadata": {
  "kernelspec": {
   "display_name": "Python 3",
   "language": "python",
   "name": "python3"
  },
  "language_info": {
   "codemirror_mode": {
    "name": "ipython",
    "version": 3
   },
   "file_extension": ".py",
   "mimetype": "text/x-python",
   "name": "python",
   "nbconvert_exporter": "python",
   "pygments_lexer": "ipython3",
   "version": "3.6.4"
  }
 },
 "nbformat": 4,
 "nbformat_minor": 2
}
