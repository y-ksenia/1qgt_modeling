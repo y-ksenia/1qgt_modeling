{
 "cells": [
  {
   "cell_type": "code",
   "execution_count": 1,
   "metadata": {},
   "outputs": [],
   "source": [
    "import numpy as np\n",
    "import sympy as sym\n",
    "import matplotlib\n",
    "import matplotlib.pyplot as plt\n",
    "import scipy.stats\n",
    "import os, sys\n",
    "from math import *\n",
    "from bokeh.layouts import gridplot\n",
    "from bokeh.plotting import output_file, figure, show\n",
    "from bokeh.palettes import inferno\n",
    "from bokeh.models import Label\n",
    "from bokeh.models import Range1d\n",
    "from bokeh.io import export_png"
   ]
  },
  {
   "cell_type": "code",
   "execution_count": 2,
   "metadata": {},
   "outputs": [],
   "source": [
    "path = '/home/yagafarova/rad_distribution/'"
   ]
  },
  {
   "cell_type": "code",
   "execution_count": 5,
   "metadata": {},
   "outputs": [],
   "source": [
    "p = figure(x_axis_label='Radius of compression, nm', y_axis_label='Number of layers', \n",
    "           plot_width=800, plot_height=600)\n",
    "           #x_range = (9.6, 20.4), y_range = (-20, 420))\n",
    "plot = output_file('num_lay_1.html', title=\"num_lay_1\")\n",
    "p.xaxis.axis_label_text_font_size = \"22pt\"\n",
    "p.xaxis.major_label_text_font_size = \"18pt\"\n",
    "p.yaxis.axis_label_text_font_size = \"22pt\"\n",
    "p.yaxis.major_label_text_font_size = \"18pt\"\n",
    "\n",
    "\n",
    "files = ['dsDNA_10000bp_50mM/num_lay_smooth.dat',\n",
    "         'dsDNA_4000bp_50mM/100k_steps/num_lay_smooth.dat', \n",
    "         'dsDNA_4000bp_5mM/num_lay_smooth.dat']\n",
    "labels = ['10000 bp 50 mM',\n",
    "          '4000 bp 50 mM',\n",
    "          '4000 bp 5 mM']\n",
    "colors = inferno(len(labels)+1)\n",
    "\n",
    "for fname,l,c in zip(files, labels, colors):\n",
    "    fname = path + fname\n",
    "    radius = [float(i.split('\\t')[0].strip()) for i in open(fname)]\n",
    "    num_lay = [float(i.split('\\t')[1].strip()) for i in open(fname)]\n",
    "    p.line(radius[:-25], num_lay[:-25], color = c, legend=l, line_width=2)\n",
    "p.legend.label_text_font_size = \"18pt\"\n",
    "show(p)\n",
    "#export_png(p, filename='/home/yagafarova/lan_nh.png')"
   ]
  },
  {
   "cell_type": "code",
   "execution_count": 7,
   "metadata": {},
   "outputs": [],
   "source": [
    "\n",
    "p = figure(x_axis_label='Radius of compression, nm', y_axis_label='Interlayer distance, nm', \n",
    "           plot_width=800, plot_height=600,\n",
    "           x_range = (10.8, 20.2))\n",
    "plot = output_file('dist_1.html', title=\"dist_1\")\n",
    "p.xaxis.axis_label_text_font_size = \"22pt\"\n",
    "p.xaxis.major_label_text_font_size = \"18pt\"\n",
    "p.yaxis.axis_label_text_font_size = \"22pt\"\n",
    "p.yaxis.major_label_text_font_size = \"18pt\"\n",
    "\n",
    "\n",
    "files = ['dsDNA_10000bp_50mM/interlay_dist_smooth.dat',\n",
    "         'dsDNA_4000bp_50mM/100k_steps/interlay_dist_smooth.dat', \n",
    "         'dsDNA_4000bp_5mM/interlay_dist_smooth.dat']\n",
    "labels = ['10000 bp 50 mM',\n",
    "          '4000 bp 50 mM',\n",
    "          '4000 bp 5 mM']\n",
    "\n",
    "colors = inferno(len(labels)+1)\n",
    "\n",
    "for fname,l,c in zip(files, labels, colors):\n",
    "    fname = path + fname\n",
    "    radius = [float(i.split('\\t')[0].strip()) for i in open(fname)]\n",
    "    num_lay = [float(i.split('\\t')[1].strip()) for i in open(fname)]\n",
    "    p.line(radius[:-25], num_lay[:-25], color = c, legend=l, line_width=2)\n",
    "p.legend.label_text_font_size = \"18pt\"\n",
    "p.legend.location = \"top_left\"\n",
    "show(p)\n",
    "#export_png(p, filename='/home/yagafarova/lan_nh.png')"
   ]
  },
  {
   "cell_type": "code",
   "execution_count": null,
   "metadata": {},
   "outputs": [],
   "source": []
  }
 ],
 "metadata": {
  "kernelspec": {
   "display_name": "Python 3",
   "language": "python",
   "name": "python3"
  },
  "language_info": {
   "codemirror_mode": {
    "name": "ipython",
    "version": 3
   },
   "file_extension": ".py",
   "mimetype": "text/x-python",
   "name": "python",
   "nbconvert_exporter": "python",
   "pygments_lexer": "ipython3",
   "version": "3.6.4"
  }
 },
 "nbformat": 4,
 "nbformat_minor": 2
}
