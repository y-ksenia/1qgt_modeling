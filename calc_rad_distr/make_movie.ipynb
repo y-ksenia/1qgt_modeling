{
 "cells": [
  {
   "cell_type": "code",
   "execution_count": 1,
   "metadata": {},
   "outputs": [],
   "source": [
    "import sys\n",
    "import string\n",
    "import os\n",
    "import numpy as np\n",
    "from math import pi\n",
    "import scipy.stats\n",
    "import warnings\n",
    "import matplotlib as mpl\n",
    "import matplotlib.pyplot as plt\n",
    "from tqdm import tqdm\n",
    "\n",
    "from bokeh.layouts import gridplot\n",
    "from bokeh.plotting import output_file, figure, show\n",
    "from bokeh.palettes import inferno\n",
    "from bokeh.models import Label\n",
    "from bokeh.models import Range1d\n",
    "from bokeh.io import export_png\n",
    "%matplotlib inline\n",
    "warnings.filterwarnings('ignore')"
   ]
  },
  {
   "cell_type": "code",
   "execution_count": 2,
   "metadata": {},
   "outputs": [
    {
     "data": {
      "text/plain": [
       "<Figure size 432x288 with 0 Axes>"
      ]
     },
     "metadata": {},
     "output_type": "display_data"
    }
   ],
   "source": [
    "fig = plt.figure()\n",
    "mpl.rcParams['figure.figsize'] = (10.0, 6.0)"
   ]
  },
  {
   "cell_type": "code",
   "execution_count": 3,
   "metadata": {},
   "outputs": [
    {
     "name": "stdout",
     "output_type": "stream",
     "text": [
      "Write the length of DNA in bp:\n",
      "\n"
     ]
    },
    {
     "ename": "ValueError",
     "evalue": "invalid literal for int() with base 10: ''",
     "output_type": "error",
     "traceback": [
      "\u001b[0;31m---------------------------------------------------------------------------\u001b[0m",
      "\u001b[0;31mValueError\u001b[0m                                Traceback (most recent call last)",
      "\u001b[0;32m<ipython-input-3-7e38971eef58>\u001b[0m in \u001b[0;36m<module>\u001b[0;34m()\u001b[0m\n\u001b[1;32m      1\u001b[0m \u001b[0mprint\u001b[0m\u001b[0;34m(\u001b[0m\u001b[0;34m'Write the length of DNA in bp:'\u001b[0m\u001b[0;34m)\u001b[0m\u001b[0;34m\u001b[0m\u001b[0m\n\u001b[0;32m----> 2\u001b[0;31m \u001b[0mbp\u001b[0m \u001b[0;34m=\u001b[0m \u001b[0mint\u001b[0m\u001b[0;34m(\u001b[0m\u001b[0minput\u001b[0m\u001b[0;34m(\u001b[0m\u001b[0;34m)\u001b[0m\u001b[0;34m.\u001b[0m\u001b[0mstrip\u001b[0m\u001b[0;34m(\u001b[0m\u001b[0;34m)\u001b[0m\u001b[0;34m)\u001b[0m\u001b[0;34m\u001b[0m\u001b[0m\n\u001b[0m\u001b[1;32m      3\u001b[0m \u001b[0mprint\u001b[0m\u001b[0;34m(\u001b[0m\u001b[0;34m'Write the concentration of NaCl in system:'\u001b[0m\u001b[0;34m)\u001b[0m\u001b[0;34m\u001b[0m\u001b[0m\n\u001b[1;32m      4\u001b[0m \u001b[0mmM\u001b[0m \u001b[0;34m=\u001b[0m \u001b[0mint\u001b[0m\u001b[0;34m(\u001b[0m\u001b[0minput\u001b[0m\u001b[0;34m(\u001b[0m\u001b[0;34m)\u001b[0m\u001b[0;34m.\u001b[0m\u001b[0mstrip\u001b[0m\u001b[0;34m(\u001b[0m\u001b[0;34m)\u001b[0m\u001b[0;34m)\u001b[0m\u001b[0;34m\u001b[0m\u001b[0m\n\u001b[1;32m      5\u001b[0m \u001b[0mstep\u001b[0m \u001b[0;34m=\u001b[0m \u001b[0;36m1\u001b[0m\u001b[0;34m\u001b[0m\u001b[0m\n",
      "\u001b[0;31mValueError\u001b[0m: invalid literal for int() with base 10: ''"
     ]
    }
   ],
   "source": [
    "print('Write the length of DNA in bp:')\n",
    "bp = int(input().strip())\n",
    "print('Write the concentration of NaCl in system:')\n",
    "mM = int(input().strip())\n",
    "step = 1\n",
    "fname = f'../DNA/dsDNA/{bp}bp/{mM}mM/push_from_30nm/dsDNA_{bp}bp_{mM}mM_pressure_push.dat'\n",
    "\n",
    "rads = np.array([float(i.split('\\t')[1].strip()) for i in open(fname)])\n",
    "frames = np.array([int(i.split('\\t')[0].strip()) for i in open(fname)]) // 10000"
   ]
  },
  {
   "cell_type": "code",
   "execution_count": null,
   "metadata": {
    "scrolled": true
   },
   "outputs": [],
   "source": [
    "#Check radial distribution for trajectories\n",
    "bp = 4000\n",
    "mM = 50\n",
    "if not os.path.exists(f'../DNA/dsDNA/plots'):\n",
    "    os.mkdir(f'../DNA/dsDNA/plots')\n",
    "if not os.path.exists(f'../DNA/dsDNA/plots/rad_distr_traj'):\n",
    "    os.mkdir(f'../DNA/dsDNA/plots/rad_distr_traj')\n",
    "# elems = ['DNA']\n",
    "runs = ['1','2','3','4','5']\n",
    "\n",
    "for frame in tqdm(range(0,9030,10)):\n",
    "    #Параметры для графика BOKEH\n",
    "    p = figure(x_axis_label='r, nm', y_axis_label=r'g(r)', \n",
    "            plot_width=800, plot_height=600,\n",
    "           x_range = (0, 61), y_range = (0, 0.022))\n",
    "    p.xaxis.axis_label_text_font_size = \"22pt\"\n",
    "    p.xaxis.major_label_text_font_size = \"18pt\"\n",
    "    p.yaxis.axis_label_text_font_size = \"22pt\"\n",
    "    p.yaxis.major_label_text_font_size = \"18pt\"\n",
    "    p.toolbar.logo = None\n",
    "    p.toolbar_location = None\n",
    "    colors = inferno(len(runs)+1)\n",
    "    for c, run in zip(colors,runs):\n",
    "        x = np.arange(1,600)\n",
    "        fname = f'../DNA/dsDNA/{bp}bp/{mM}mM/push_100k_steps/rad_distr/run_{run}/DNA/{frame}.dat'\n",
    "        dens = np.array([float(i.split('\\t')[1].strip()) for i in open(fname)])\n",
    "#         print(len(dens))\n",
    "        p.line(x/10, dens, color = c, legend=run, line_width = 5)\n",
    "    p.legend.label_text_font_size = \"18pt\"\n",
    "    export_png(p, filename=f'../DNA/dsDNA/plots/rad_distr_traj/{frame//10}.png')\n",
    "    "
   ]
  },
  {
   "cell_type": "code",
   "execution_count": 5,
   "metadata": {},
   "outputs": [
    {
     "name": "stdout",
     "output_type": "stream",
     "text": [
      "0.1 1000\n",
      "2 1000\n",
      "5 1250\n",
      "12 950\n"
     ]
    }
   ],
   "source": [
    "#Check radial distribution for different mMs\n",
    "if not os.path.exists(f'../DNA/dsDNA/plots/rad_distr_mMs'):\n",
    "    os.mkdir(f'../DNA/dsDNA/plots/rad_distr_mMs')\n",
    "elems = ['DNA','Na','Cl']\n",
    "bp = 4000\n",
    "mMs = ['0.1','2','5','12','50']\n",
    "colors = inferno(len(elems)+1)\n",
    "boxes = [1000,1000,1250,950]\n",
    "\n",
    "for mM, x_max in zip(mMs,boxes):\n",
    "    x = np.arange(1,x_max)\n",
    "    print(mM, x_max)\n",
    "    fname = f'../DNA/dsDNA/{bp}bp/{mM}mM/push_from_30nm/dsDNA_{bp}bp_{mM}mM_pressure_push.dat'\n",
    "    frames = np.array([int(i.split('\\t')[0].strip()) for i in open(fname)]) // 10000\n",
    "    rads = np.array([float(i.split('\\t')[1].strip()) for i in open(fname)])\n",
    "#     for r in np.linspace(29.9,11.0,5):\n",
    "    inds = np.where(rads==11.030499)[0]\n",
    "    frame = frames[inds][0]\n",
    "    p = figure(x_axis_label='r, nm', y_axis_label=r'g(r)', \n",
    "            plot_width=800, plot_height=600,\n",
    "            y_range = (0, 0.022))\n",
    "    p.xaxis.axis_label_text_font_size = \"22pt\"\n",
    "    p.xaxis.major_label_text_font_size = \"18pt\"\n",
    "    p.yaxis.axis_label_text_font_size = \"22pt\"\n",
    "    p.yaxis.major_label_text_font_size = \"18pt\"\n",
    "    p.toolbar.logo = None\n",
    "    p.toolbar_location = None\n",
    "\n",
    "    for c, elem in zip(colors, elems):\n",
    "        fname = f'../DNA/dsDNA/{bp}bp/{mM}mM/push_from_30nm/rad_distr/{elem}/{frame}.dat'\n",
    "        dens = np.array([float(i.split('\\t')[1].strip()) for i in open(fname)])\n",
    "        p.line(x/10, dens, color = c, legend=elem, line_width = 3)\n",
    "    p.legend.label_text_font_size = \"18pt\"\n",
    "    show(p)\n",
    "#     export_png(p, filename=f'../DNA/dsDNA/plots/rad_distr_mMs/mM{mM}_r{rads[inds][0]}.png')\n"
   ]
  },
  {
   "cell_type": "code",
   "execution_count": 65,
   "metadata": {},
   "outputs": [
    {
     "name": "stdout",
     "output_type": "stream",
     "text": [
      "0.1 1000\n",
      "2 1000\n",
      "5 1250\n",
      "12 950\n"
     ]
    }
   ],
   "source": [
    "#Check radial distribution for different mMs\n",
    "if not os.path.exists(f'../DNA/dsDNA/plots/rad_distr_elems_mMs'):\n",
    "    os.mkdir(f'../DNA/dsDNA/plots/rad_distr_elems_mMs')\n",
    "elems = ['Cl']\n",
    "bp = 4000\n",
    "mMs = ['0.1','2','5','12']\n",
    "colors = inferno(len(mMs)+1)\n",
    "boxes = [1000,1000,1250,950]\n",
    "\n",
    "for elem in elems:\n",
    "    p = figure(x_axis_label='r, nm', y_axis_label=r'g(r) · e-3', \n",
    "            plot_width=800, plot_height=600,\n",
    "            x_range = (0,31), y_range = (0,1.44))\n",
    "    p.xaxis.axis_label_text_font_size = \"22pt\"\n",
    "    p.xaxis.major_label_text_font_size = \"18pt\"\n",
    "    p.yaxis.axis_label_text_font_size = \"22pt\"\n",
    "    p.yaxis.major_label_text_font_size = \"18pt\"\n",
    "    p.toolbar.logo = None\n",
    "    p.toolbar_location = None\n",
    "\n",
    "    for c, mM, x_max in zip(colors, mMs, boxes):\n",
    "        x = np.arange(1,x_max)\n",
    "        print(mM, x_max)\n",
    "        fname = f'../DNA/dsDNA/{bp}bp/{mM}mM/push_from_30nm/dsDNA_{bp}bp_{mM}mM_pressure_push.dat'\n",
    "        frames = np.array([int(i.split('\\t')[0].strip()) for i in open(fname)]) // 10000\n",
    "        rads = np.array([float(i.split('\\t')[1].strip()) for i in open(fname)])\n",
    "    #     for r in np.linspace(29.9,11.0,5):\n",
    "        inds = np.where(rads==11.030499)[0]\n",
    "        frame = frames[inds][0]\n",
    "        fname = f'../DNA/dsDNA/{bp}bp/{mM}mM/push_from_30nm/rad_distr/{elem}/{frame}.dat'\n",
    "        dens = np.array([float(i.split('\\t')[1].strip()) for i in open(fname)])\n",
    "        p.line(x/10, dens*1e3, color = c, legend=mM, line_width = 3)\n",
    "    p.legend.label_text_font_size = \"18pt\"\n",
    "    p.legend.location = \"top_right\"\n",
    "#     show(p)\n",
    "    export_png(p, filename=f'../DNA/dsDNA/plots/rad_distr_elems_mMs/{elem}_r{rads[inds][0]}.png')\n"
   ]
  },
  {
   "cell_type": "code",
   "execution_count": 4,
   "metadata": {},
   "outputs": [
    {
     "name": "stderr",
     "output_type": "stream",
     "text": [
      "  0%|          | 0/1 [00:00<?, ?it/s]\n"
     ]
    },
    {
     "ename": "FileNotFoundError",
     "evalue": "[Errno 2] No such file or directory: '../DNA/dsDNA/4000bp/2mM/push_from_30nm/rad_distr_check/Cl/3589.dat'",
     "output_type": "error",
     "traceback": [
      "\u001b[0;31m---------------------------------------------------------------------------\u001b[0m",
      "\u001b[0;31mFileNotFoundError\u001b[0m                         Traceback (most recent call last)",
      "\u001b[0;32m<ipython-input-4-33230aa531ee>\u001b[0m in \u001b[0;36m<module>\u001b[0;34m()\u001b[0m\n\u001b[1;32m     24\u001b[0m         \u001b[0mx1\u001b[0m \u001b[0;34m=\u001b[0m \u001b[0mnp\u001b[0m\u001b[0;34m.\u001b[0m\u001b[0marange\u001b[0m\u001b[0;34m(\u001b[0m\u001b[0;36m1\u001b[0m\u001b[0;34m,\u001b[0m\u001b[0;36m2000\u001b[0m\u001b[0;34m)\u001b[0m\u001b[0;34m\u001b[0m\u001b[0m\n\u001b[1;32m     25\u001b[0m         \u001b[0mfname1\u001b[0m \u001b[0;34m=\u001b[0m \u001b[0;34mf'../DNA/dsDNA/{bp}bp/{mM}mM/push_from_30nm/rad_distr_check/Cl/{frame}.dat'\u001b[0m\u001b[0;34m\u001b[0m\u001b[0m\n\u001b[0;32m---> 26\u001b[0;31m         \u001b[0mdens1\u001b[0m \u001b[0;34m=\u001b[0m \u001b[0mnp\u001b[0m\u001b[0;34m.\u001b[0m\u001b[0marray\u001b[0m\u001b[0;34m(\u001b[0m\u001b[0;34m[\u001b[0m\u001b[0mfloat\u001b[0m\u001b[0;34m(\u001b[0m\u001b[0mi\u001b[0m\u001b[0;34m.\u001b[0m\u001b[0msplit\u001b[0m\u001b[0;34m(\u001b[0m\u001b[0;34m'\\t'\u001b[0m\u001b[0;34m)\u001b[0m\u001b[0;34m[\u001b[0m\u001b[0;36m1\u001b[0m\u001b[0;34m]\u001b[0m\u001b[0;34m.\u001b[0m\u001b[0mstrip\u001b[0m\u001b[0;34m(\u001b[0m\u001b[0;34m)\u001b[0m\u001b[0;34m)\u001b[0m \u001b[0;32mfor\u001b[0m \u001b[0mi\u001b[0m \u001b[0;32min\u001b[0m \u001b[0mopen\u001b[0m\u001b[0;34m(\u001b[0m\u001b[0mfname1\u001b[0m\u001b[0;34m)\u001b[0m\u001b[0;34m]\u001b[0m\u001b[0;34m)\u001b[0m\u001b[0;34m\u001b[0m\u001b[0m\n\u001b[0m\u001b[1;32m     27\u001b[0m         \u001b[0mx2\u001b[0m \u001b[0;34m=\u001b[0m \u001b[0mnp\u001b[0m\u001b[0;34m.\u001b[0m\u001b[0marange\u001b[0m\u001b[0;34m(\u001b[0m\u001b[0;36m1\u001b[0m\u001b[0;34m,\u001b[0m\u001b[0;36m300\u001b[0m\u001b[0;34m)\u001b[0m\u001b[0;34m\u001b[0m\u001b[0m\n\u001b[1;32m     28\u001b[0m         \u001b[0mfname2\u001b[0m \u001b[0;34m=\u001b[0m \u001b[0;34mf'../DNA/dsDNA/{bp}bp/{mM}mM/push_from_30nm/rad_distr/Cl/{frame}.dat'\u001b[0m\u001b[0;34m\u001b[0m\u001b[0m\n",
      "\u001b[0;31mFileNotFoundError\u001b[0m: [Errno 2] No such file or directory: '../DNA/dsDNA/4000bp/2mM/push_from_30nm/rad_distr_check/Cl/3589.dat'"
     ]
    }
   ],
   "source": [
    "#Check radial distribution for trajectories\n",
    "bp = 4000\n",
    "mM = 2\n",
    "# if not os.path.exists(f'../DNA/dsDNA/plots'):\n",
    "#     os.mkdir(f'../DNA/dsDNA/plots')\n",
    "# if not os.path.exists(f'../DNA/dsDNA/plots/rad_distr_traj'):\n",
    "#     os.mkdir(f'../DNA/dsDNA/plots/rad_distr_traj')\n",
    "elems = ['DNA','Na','Cl']\n",
    "\n",
    "\n",
    "for frame in tqdm(range(3589,3590)):\n",
    "    #Параметры для графика BOKEH\n",
    "    p = figure(x_axis_label='r, nm', y_axis_label=r'g(r)', \n",
    "            plot_width=800, plot_height=600,\n",
    "            x_range = (0,31))#, y_range = (0, 0.001))\n",
    "    p.xaxis.axis_label_text_font_size = \"22pt\"\n",
    "    p.xaxis.major_label_text_font_size = \"18pt\"\n",
    "    p.yaxis.axis_label_text_font_size = \"22pt\"\n",
    "    p.yaxis.major_label_text_font_size = \"18pt\"\n",
    "    p.toolbar.logo = None\n",
    "    p.toolbar_location = None\n",
    "    colors = inferno(2*len(elems)+1)\n",
    "    for c, elem in zip(colors,elems):\n",
    "        x1 = np.arange(1,2000)\n",
    "        fname1 = f'../DNA/dsDNA/{bp}bp/{mM}mM/push_from_30nm/rad_distr_check/Cl/{frame}.dat'\n",
    "        dens1 = np.array([float(i.split('\\t')[1].strip()) for i in open(fname1)])\n",
    "        x2 = np.arange(1,300)\n",
    "        fname2 = f'../DNA/dsDNA/{bp}bp/{mM}mM/push_from_30nm/rad_distr/Cl/{frame}.dat'\n",
    "        dens2 = np.array([float(i.split('\\t')[1].strip()) for i in open(fname2)])\n",
    "#         print(len(dens))\n",
    "        p.line(x1/10, dens1, color = colors[1], legend='check', line_width = 5)\n",
    "        p.line(x2/10, dens2, color = colors[3], legend='true', line_width = 2)\n",
    "    p.legend.label_text_font_size = \"18pt\"\n",
    "#     export_png(p, filename=f'../DNA/dsDNA/plots/rad_distr_traj/{frame//10}.png')\n",
    "    show(p)"
   ]
  },
  {
   "cell_type": "code",
   "execution_count": null,
   "metadata": {},
   "outputs": [],
   "source": []
  }
 ],
 "metadata": {
  "kernelspec": {
   "display_name": "Python 3",
   "language": "python",
   "name": "python3"
  },
  "language_info": {
   "codemirror_mode": {
    "name": "ipython",
    "version": 3
   },
   "file_extension": ".py",
   "mimetype": "text/x-python",
   "name": "python",
   "nbconvert_exporter": "python",
   "pygments_lexer": "ipython3",
   "version": "3.6.5"
  }
 },
 "nbformat": 4,
 "nbformat_minor": 2
}
