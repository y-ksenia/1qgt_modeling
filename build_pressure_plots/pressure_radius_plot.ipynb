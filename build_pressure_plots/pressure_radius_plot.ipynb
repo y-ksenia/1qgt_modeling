{
 "cells": [
  {
   "cell_type": "code",
   "execution_count": 10,
   "metadata": {
    "scrolled": true
   },
   "outputs": [],
   "source": [
    "import numpy as np\n",
    "import sympy as sym\n",
    "import matplotlib\n",
    "import matplotlib.pyplot as plt\n",
    "import scipy.stats\n",
    "import os, sys\n",
    "from math import *\n",
    "from bokeh.layouts import gridplot\n",
    "from bokeh.plotting import output_file, figure, show\n",
    "from bokeh.palettes import inferno\n",
    "from bokeh.models import Label\n",
    "from bokeh.models import Range1d\n",
    "from bokeh.io import export_png"
   ]
  },
  {
   "cell_type": "code",
   "execution_count": 11,
   "metadata": {},
   "outputs": [],
   "source": [
    "path = '/home/yagafarova/DNA_packaging/dsDNA/'"
   ]
  },
  {
   "cell_type": "code",
   "execution_count": 14,
   "metadata": {},
   "outputs": [],
   "source": [
    "#Langevin vs. Nose-Hoover\n",
    "p = figure(x_axis_label='Radius of compression, nm', y_axis_label='Pressure, atm', \n",
    "           plot_width=800, plot_height=600,\n",
    "           x_range = (9.6, 20.4), y_range = (-20, 420))\n",
    "plot = output_file('lan_nh.html', title=\"lan_nh\")\n",
    "p.xaxis.axis_label_text_font_size = \"22pt\"\n",
    "p.xaxis.major_label_text_font_size = \"18pt\"\n",
    "p.yaxis.axis_label_text_font_size = \"22pt\"\n",
    "p.yaxis.major_label_text_font_size = \"18pt\"\n",
    "\n",
    "\n",
    "files = ['VelocityVerlet_Langevin/dsDNA_4000bp_mM50/push/0.1/dsDNA_4000bp_mM50_pressure_push.dat', \n",
    "         '4000bp_concentration/dsDNA_4000bp_mM50/push_10k_steps/dsDNA_4000bp_mM50_pressure_push.dat',\n",
    "         '4000bp_concentration/dsDNA_4000bp_mM50/push_100k_steps/dsDNA_4000bp_mM50_pressure_push.dat']\n",
    "labels = ['Langevin',\n",
    "          'Nose-Hoover 10 M steps',\n",
    "          'Nose-Hoover 100 M steps']\n",
    "colors = inferno(len(labels)+1)\n",
    "\n",
    "for fname,l,c in zip(files, labels, colors):\n",
    "    fname = path + fname\n",
    "    radius = [float(i.split('\\t')[1].strip()) for i in open(fname)]\n",
    "    pressure = [float(i.split('\\t')[2].strip())*1.6*9.87 for i in open(fname)]\n",
    "    p.line(radius, pressure, color = c, legend=l, line_width=2)\n",
    "p.legend.label_text_font_size = \"18pt\"\n",
    "show(p)\n",
    "#export_png(p, filename='/home/yagafarova/lan_nh.png')"
   ]
  },
  {
   "cell_type": "code",
   "execution_count": null,
   "metadata": {
    "collapsed": true
   },
   "outputs": [],
   "source": [
    "#500bp different concentrations\n",
    "p = figure(x_axis_label='Radius of compression, nm', y_axis_label='Pressure, atm', plot_width=800, plot_height=600)\n",
    "output_file('dif_conc_500bp.html', title=\"dif_conc_500bp\")\n",
    "p.xaxis.axis_label_text_font_size = \"22pt\"\n",
    "p.xaxis.major_label_text_font_size = \"18pt\"\n",
    "p.yaxis.axis_label_text_font_size = \"22pt\"\n",
    "p.yaxis.major_label_text_font_size = \"18pt\"\n",
    "p.x_range = Range1d(4.8, 10.2)\n",
    "p.y_range = Range1d(-20, 620)\n",
    "\n",
    "files = ['500bp/50mM/push/dsDNA_500bp_mM50.0_pressure_push.dat',\n",
    "         '500bp/12mM/push/dsDNA_500bp_mM12.0_pressure_push.dat',\n",
    "         '500bp/5mM/push/dsDNA_500bp_mM5.0_pressure_push.dat',\n",
    "         '500bp/2mM/push/dsDNA_500bp_mM2.0_pressure_push.dat',\n",
    "         '500bp/0.1mM/push/dsDNA_500bp_mM0.1_pressure_push.dat',]\n",
    "labels = ['50 mM',\n",
    "          '12 mM',\n",
    "          '5 mM',\n",
    "          '2 mM',\n",
    "          '0.1 mM']\n",
    "colors = inferno(len(labels)+1)\n",
    "for fname,l,c in zip(files, labels, colors):\n",
    "    fname = path + fname\n",
    "    radius = [float(i.split('\\t')[1].strip()) for i in open(fname)]\n",
    "    pressure = [float(i.split('\\t')[2].strip())*1.6*9.87 for i in open(fname)]\n",
    "    #start = np.where(np.array(radius)<10)[0]\n",
    "    #p.line(np.array(radius)[start], np.array(pressure)[start], color= c, legend=l, line_width=2)\n",
    "    p.line(radius, pressure, color= c, legend=l, line_width=2)\n",
    "p.legend.label_text_font_size = \"18pt\"\n",
    "show(p)\n"
   ]
  },
  {
   "cell_type": "code",
   "execution_count": 8,
   "metadata": {},
   "outputs": [],
   "source": [
    "p = figure(x_axis_label='Radius of compression, nm', \n",
    "           y_axis_label='Pressure, atm', \n",
    "           plot_width=800, \n",
    "           plot_height=600)\n",
    "output_file('dif_conc_4000bp.html', title=\"dif_conc_4000bp\")\n",
    "p.xaxis.axis_label_text_font_size = \"22pt\"\n",
    "p.xaxis.major_label_text_font_size = \"18pt\"\n",
    "p.yaxis.axis_label_text_font_size = \"22pt\"\n",
    "p.yaxis.major_label_text_font_size = \"18pt\"\n",
    "p.x_range = Range1d(9.6, 20.4)\n",
    "p.y_range = Range1d(-20, 420)\n",
    "\n",
    "files = ['4000bp_concentration/dsDNA_4000bp_mM50/push_10k_steps/dsDNA_4000bp_mM50_pressure_push.dat',\n",
    "         '4000bp_concentration/dsDNA_4000bp_mM12/push/dsDNA_4000bp_mM12_pressure_push.dat',\n",
    "         '4000bp_concentration/mM5/push/dsDNA_mM5.250nm_pressure_push.dat']\n",
    "         #'4000bp_concentration/mM2/push/dsDNA_mM2.200nm_pressure_type.dat',\n",
    "         #'4000bp_concentration/mM0.1/push/dsDNA_mM0.1.200nm_pressure_type.dat']\n",
    "labels = ['50 mM NaCl',\n",
    "          '12 mM NaCl',\n",
    "          '5 mM NaCl']\n",
    "          #'2 $\\mu$M',\n",
    "          #'0.1 $\\mu$M']\n",
    "colors = inferno(len(labels)+1)\n",
    "for fname,l,c in zip(files, labels, colors):\n",
    "    fname = path + fname\n",
    "    radius = [float(i.split('\\t')[1].strip()) for i in open(fname)]\n",
    "    pressure = [float(i.split('\\t')[2].strip())*1.6*9.87 for i in open(fname)]\n",
    "    #start = np.where(np.array(radius)<20)[0]\n",
    "    #p.line(np.array(radius)[start], np.array(pressure)[start], color= c, legend=l, line_width=2)\n",
    "    p.line(radius, pressure, color= c, legend=l, line_width=2)\n",
    "p.legend.label_text_font_size = \"18pt\"\n",
    "show(p)\n",
    "#export_png(p, filename='/home/yagafarova/dif_conc_4000bp.png')"
   ]
  },
  {
   "cell_type": "code",
   "execution_count": 13,
   "metadata": {},
   "outputs": [],
   "source": [
    "p = figure(x_axis_label='Radius of compression, nm', y_axis_label='Pressure, atm', plot_width=800, plot_height=600)\n",
    "output_file('dif_length_50mM.html', title=\"dif_length_50mM\")\n",
    "p.xaxis.axis_label_text_font_size = \"22pt\"\n",
    "p.xaxis.major_label_text_font_size = \"18pt\"\n",
    "p.yaxis.axis_label_text_font_size = \"22pt\"\n",
    "p.yaxis.major_label_text_font_size = \"18pt\"\n",
    "p.x_range = Range1d(3.6, 20.4)\n",
    "p.y_range = Range1d(-20, 420)\n",
    "p.legend.title = 'Number of base pairs'\n",
    "p.legend.label_standoff = 5\n",
    "p.legend.glyph_width = 50\n",
    "p.legend.spacing = 10\n",
    "p.legend.padding = 50\n",
    "p.legend.margin = 50\n",
    "\n",
    "files = ['mM50_length/dsDNA_500bp_mM50/push/dsDNA_500bp_mM50_pressure_push.dat',\n",
    "         'mM50_length/dsDNA_1000bp_mM50/push/dsDNA_1000bp_mM50_pressure_push.dat',\n",
    "         'mM50_length/dsDNA_2000bp_mM50/push/dsDNA_2000bp_mM50_pressure_push.dat',\n",
    "         #'4000bp_concentration/dsDNA_4000bp_mM50/push_10k_steps/dsDNA_4000bp_mM50_pressure_push.dat',\n",
    "         #'mM50_length_2/dsDNA_4000bp_mM50/push/dsDNA_4000bp_mM50.0_pressure_push.dat',\n",
    "         'mM50_length_2/dsDNA_4000bp_mM50/push_2/dsDNA_4000bp_mM50.0_pressure_push.dat',\n",
    "         'mM50_length_2/dsDNA_6000bp_mM50/push/dsDNA_6000bp_mM50.0_pressure_push.dat',\n",
    "         'mM50_length_2/dsDNA_8000bp_mM50/push/dsDNA_8000bp_mM50.0_pressure_push.dat',\n",
    "         'mM50_length_2/dsDNA_10000bp_mM50/push/dsDNA_10000bp_mM50.0_pressure_push.dat']\n",
    "labels = ['500 bp',\n",
    "          '1000 bp',\n",
    "          '2000 bp',\n",
    "          '4000 bp',\n",
    "          #'4000_2',\n",
    "          #'4000_3']\n",
    "          '6000 bp',\n",
    "          '8000 bp',\n",
    "          '10000 bp']\n",
    "colors = inferno(len(labels)+1)\n",
    "for fname,l,c in zip(files, labels, colors):\n",
    "    fname = path + fname\n",
    "    radius = [float(i.split('\\t')[1].strip()) for i in open(fname)]\n",
    "    pressure = [float(i.split('\\t')[2].strip())*1.6*9.87 for i in open(fname)]\n",
    "    #start = np.where(np.array(radius)<20)[0]\n",
    "    #p.line(np.array(radius)[start], np.array(pressure)[start], color= c, legend=l, line_width=2)\n",
    "    p.line(radius, pressure, color= c, legend=l, line_width=2)\n",
    "p.legend.label_text_font_size = \"18pt\"\n",
    "show(p)\n"
   ]
  },
  {
   "cell_type": "code",
   "execution_count": null,
   "metadata": {
    "collapsed": true
   },
   "outputs": [],
   "source": [
    "p = figure(title=\"Angles for concentration 2 mM\", plot_width=800, plot_height=600)\n",
    "output_file('histogram.html', title=\"histogram for angles\")\n",
    "fname = '/home/yagafarova/calc_DNA_center_line/mM2_angles.dat'\n",
    "measured = np.array([float(i.split('\\t')[0].strip()) for i in open(fname)]) / pi * 180\n",
    "hist, edges = np.histogram(measured, density=True, bins=50)\n",
    "\n",
    "p.quad(top=hist, bottom=0, left=edges[:-1], right=edges[1:],\n",
    "        fill_color=\"#036564\", line_color=\"#033649\")\n",
    "p.legend.location = \"center_right\"\n",
    "p.legend.background_fill_color = \"darkgrey\"\n",
    "p.xaxis.axis_label = 'x'\n",
    "p.yaxis.axis_label = 'Pr(x)'\n",
    "\n",
    "show(p)"
   ]
  },
  {
   "cell_type": "code",
   "execution_count": null,
   "metadata": {
    "collapsed": true
   },
   "outputs": [],
   "source": [
    "p = figure(title=\"Angles for concentration 2 mM\", plot_width=800, plot_height=600)\n",
    "output_file('angles.html', title=\"angles\")\n",
    "fname = '/home/yagafarova/calc_DNA_center_line/mM2_angles.dat'\n",
    "measured = np.array([float(i.split('\\t')[0].strip()) for i in open(fname)]) / pi * 180\n",
    "\n",
    "n = np.arange(len(measured))\n",
    "\n",
    "p.line(n, measured, color= c, legend=l, line_width=2)\n",
    "\n",
    "show(p)"
   ]
  },
  {
   "cell_type": "code",
   "execution_count": null,
   "metadata": {
    "collapsed": true
   },
   "outputs": [],
   "source": []
  }
 ],
 "metadata": {
  "kernelspec": {
   "display_name": "Python 3",
   "language": "python",
   "name": "python3"
  },
  "language_info": {
   "codemirror_mode": {
    "name": "ipython",
    "version": 3
   },
   "file_extension": ".py",
   "mimetype": "text/x-python",
   "name": "python",
   "nbconvert_exporter": "python",
   "pygments_lexer": "ipython3",
   "version": "3.6.4"
  }
 },
 "nbformat": 4,
 "nbformat_minor": 2
}
