{
 "cells": [
  {
   "cell_type": "code",
   "execution_count": 1,
   "metadata": {
    "collapsed": true
   },
   "outputs": [],
   "source": [
    "import numpy as np\n",
    "import sympy as sym\n",
    "import matplotlib\n",
    "import matplotlib.pyplot as plt\n",
    "import scipy.stats\n",
    "import os, sys\n",
    "from math import *\n",
    "from bokeh.layouts import gridplot\n",
    "from bokeh.plotting import figure, show, output_file\n",
    "from bokeh.palettes import inferno\n",
    "from bokeh.models import Label"
   ]
  },
  {
   "cell_type": "code",
   "execution_count": 2,
   "metadata": {
    "collapsed": true
   },
   "outputs": [],
   "source": [
    "path = '/home/yagafarova/DNA_packaging/dsDNA/'"
   ]
  },
  {
   "cell_type": "code",
   "execution_count": 3,
   "metadata": {
    "collapsed": true
   },
   "outputs": [],
   "source": [
    "p = figure(x_axis_label='Radius of compression, nm', y_axis_label='Pressure, atm', title=\"Langevin vs. Nose-Hoover\", plot_width=800, plot_height=600)\n",
    "output_file('len_nh.html', title=\"len_nh\")\n",
    "p.xaxis.axis_label_text_font_size = \"22pt\"\n",
    "p.yaxis.axis_label_text_font_size = \"22pt\"\n",
    "files = ['VelocityVerlet_Langevin/dsDNA_4000bp_mM50/push/0.1/dsDNA_4000bp_mM50_pressure_push.dat', \n",
    "         '4000bp_concentration/dsDNA_4000bp_mM50/push_10k_steps/dsDNA_4000bp_mM50_pressure_push.dat',\n",
    "         '4000bp_concentration/dsDNA_4000bp_mM50/push_100k_steps/dsDNA_4000bp_mM50_pressure_push.dat']\n",
    "labels = ['Langevin: 0.1',\n",
    "          'Nose-Hoover: 10kk steps',\n",
    "          'Nose-Hoover: 100kk steps']\n",
    "colors = inferno(len(labels)+1)\n",
    "for fname,l,c in zip(files, labels, colors):\n",
    "    fname = path + fname\n",
    "    radius = [float(i.split('\\t')[1].strip()) for i in open(fname)]\n",
    "    pressure = [float(i.split('\\t')[2].strip())*1.6*9.87 for i in open(fname)]\n",
    "    #start = np.where(np.array(radius)<20)[0]\n",
    "    #p.line(np.array(radius)[start], np.array(pressure)[start], color= c, legend=l, line_width=2)\n",
    "    p.line(radius, pressure, color= c, legend=l, line_width=2)\n",
    "show(p)"
   ]
  },
  {
   "cell_type": "code",
   "execution_count": 4,
   "metadata": {
    "collapsed": true
   },
   "outputs": [],
   "source": [
    "p = figure(x_axis_label='Radius of compression, nm', y_axis_label='Pressure, atm', title=\"Different concentrations\", plot_width=800, plot_height=600)\n",
    "output_file('dif_conc.html', title=\"dif_conc\")\n",
    "p.xaxis.axis_label_text_font_size = \"22pt\"\n",
    "p.yaxis.axis_label_text_font_size = \"22pt\"\n",
    "\n",
    "files = ['4000bp_concentration/dsDNA_4000bp_mM50/push_10k_steps/dsDNA_4000bp_mM50_pressure_push.dat',\n",
    "         '4000bp_concentration/dsDNA_4000bp_mM12/push/dsDNA_4000bp_mM12_pressure_push.dat',\n",
    "         '4000bp_concentration/mM5/push/dsDNA_mM5.250nm_pressure_push.dat']\n",
    "         #'4000bp_concentration/mM2/push/dsDNA_mM2.200nm_pressure_type.dat',\n",
    "         #'4000bp_concentration/mM0.1/push/dsDNA_mM0.1.200nm_pressure_type.dat']\n",
    "labels = ['50 μM',\n",
    "          '12 μM',\n",
    "          '5 μM']\n",
    "          #'2 $\\mu$M',\n",
    "          #'0.1 $\\mu$M']\n",
    "colors = inferno(len(labels)+1)\n",
    "for fname,l,c in zip(files, labels, colors):\n",
    "    fname = path + fname\n",
    "    radius = [float(i.split('\\t')[1].strip()) for i in open(fname)]\n",
    "    pressure = [float(i.split('\\t')[2].strip())*1.6*9.87 for i in open(fname)]\n",
    "    #start = np.where(np.array(radius)<20)[0]\n",
    "    #p.line(np.array(radius)[start], np.array(pressure)[start], color= c, legend=l, line_width=2)\n",
    "    p.line(radius, pressure, color= c, legend=l, line_width=2)\n",
    "show(p)\n"
   ]
  },
  {
   "cell_type": "code",
   "execution_count": 5,
   "metadata": {
    "collapsed": true
   },
   "outputs": [],
   "source": [
    "p = figure(x_axis_label='Radius of compression, nm', y_axis_label='Pressure, atm', title=\"Different length\", plot_width=800, plot_height=600)\n",
    "output_file('dif_length.html', title=\"dif_length\")\n",
    "p.xaxis.axis_label_text_font_size = \"22pt\"\n",
    "p.yaxis.axis_label_text_font_size = \"22pt\"\n",
    "\n",
    "files = ['mM50_length/dsDNA_500bp_mM50/push/dsDNA_500bp_mM50_pressure_push.dat',\n",
    "         'mM50_length/dsDNA_1000bp_mM50/push/dsDNA_1000bp_mM50_pressure_push.dat',\n",
    "         'mM50_length/dsDNA_2000bp_mM50/push/dsDNA_2000bp_mM50_pressure_push.dat',\n",
    "         '4000bp_concentration/dsDNA_4000bp_mM50/push_10k_steps/dsDNA_4000bp_mM50_pressure_push.dat',\n",
    "         'mM50_length/dsDNA_8000bp_mM50/push/dsDNA_8000bp_mM50_pressure_push.dat']\n",
    "labels = ['500',\n",
    "          '1000',\n",
    "          '2000',\n",
    "          '4000',\n",
    "          '8000']\n",
    "colors = inferno(len(labels)+1)\n",
    "for fname,l,c in zip(files, labels, colors):\n",
    "    fname = path + fname\n",
    "    radius = [float(i.split('\\t')[1].strip()) for i in open(fname)]\n",
    "    pressure = [float(i.split('\\t')[2].strip())*1.6*9.87 for i in open(fname)]\n",
    "    p.line(radius, pressure, color= c, legend=l, line_width=2)\n",
    "show(p)\n"
   ]
  },
  {
   "cell_type": "code",
   "execution_count": 6,
   "metadata": {
    "collapsed": true
   },
   "outputs": [],
   "source": [
    "p = figure(title=\"Angles for concentration 2 mM\", plot_width=800, plot_height=600)\n",
    "output_file('histogram.html', title=\"histogram.py example\")\n",
    "fname = '/home/yagafarova/calc_DNA_center_line/mM2_angles.dat'\n",
    "measured = np.array([float(i.split('\\t')[0].strip()) for i in open(fname)]) / pi * 180\n",
    "hist, edges = np.histogram(measured, density=True, bins=50)\n",
    "\n",
    "p.quad(top=hist, bottom=0, left=edges[:-1], right=edges[1:],\n",
    "        fill_color=\"#036564\", line_color=\"#033649\")\n",
    "p.legend.location = \"center_right\"\n",
    "p.legend.background_fill_color = \"darkgrey\"\n",
    "p.xaxis.axis_label = 'x'\n",
    "p.yaxis.axis_label = 'Pr(x)'\n",
    "\n",
    "\n",
    "\n",
    "\n",
    "show(p)"
   ]
  },
  {
   "cell_type": "code",
   "execution_count": 10,
   "metadata": {},
   "outputs": [],
   "source": [
    "p = figure(title=\"Angles for concentration 2 mM\", plot_width=800, plot_height=600)\n",
    "output_file('histogram.html', title=\"histogram.py example\")\n",
    "fname = '/home/yagafarova/calc_DNA_center_line/mM2_angles.dat'\n",
    "measured = np.array([float(i.split('\\t')[0].strip()) for i in open(fname)]) / pi * 180\n",
    "\n",
    "n = np.arange(len(measured))\n",
    "\n",
    "p.line(n, measured, color= c, legend=l, line_width=2)\n",
    "\n",
    "show(p)"
   ]
  },
  {
   "cell_type": "code",
   "execution_count": null,
   "metadata": {
    "collapsed": true
   },
   "outputs": [],
   "source": []
  }
 ],
 "metadata": {
  "kernelspec": {
   "display_name": "Python 3",
   "language": "python",
   "name": "python3"
  },
  "language_info": {
   "codemirror_mode": {
    "name": "ipython",
    "version": 3
   },
   "file_extension": ".py",
   "mimetype": "text/x-python",
   "name": "python",
   "nbconvert_exporter": "python",
   "pygments_lexer": "ipython3",
   "version": "3.6.2"
  }
 },
 "nbformat": 4,
 "nbformat_minor": 2
}
