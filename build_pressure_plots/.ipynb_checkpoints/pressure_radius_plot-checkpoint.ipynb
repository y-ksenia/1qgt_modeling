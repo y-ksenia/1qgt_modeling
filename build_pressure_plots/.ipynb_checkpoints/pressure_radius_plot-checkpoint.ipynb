{
 "cells": [
  {
   "cell_type": "code",
   "execution_count": 1,
   "metadata": {
    "scrolled": true
   },
   "outputs": [],
   "source": [
    "import numpy as np\n",
    "import sympy as sym\n",
    "import matplotlib\n",
    "import matplotlib.pyplot as plt\n",
    "import scipy.stats\n",
    "import os, sys\n",
    "from math import *\n",
    "from bokeh.layouts import gridplot\n",
    "from bokeh.plotting import output_file, figure, show\n",
    "from bokeh.palettes import inferno\n",
    "from bokeh.models import Label\n",
    "from bokeh.models import Range1d\n",
    "from bokeh.io import export_png"
   ]
  },
  {
   "cell_type": "code",
   "execution_count": 15,
   "metadata": {},
   "outputs": [],
   "source": [
    "#For different trajectories 4000bp 50 mM\n",
    "p = figure(x_axis_label='Radius of compression, nm', \n",
    "           y_axis_label='Pressure, atm', \n",
    "           plot_width=800, \n",
    "           plot_height=600)\n",
    "p.toolbar.logo = None\n",
    "p.toolbar_location = None\n",
    "p.xaxis.axis_label_text_font_size = \"22pt\"\n",
    "p.xaxis.major_label_text_font_size = \"18pt\"\n",
    "p.yaxis.axis_label_text_font_size = \"22pt\"\n",
    "p.yaxis.major_label_text_font_size = \"18pt\"\n",
    "runs = ['1','2','3','4','5']\n",
    "bp = 4000\n",
    "mM = 50\n",
    "colors = inferno(len(runs)+1)\n",
    "for run,c in zip(runs, colors):\n",
    "    fname = f'../DNA/dsDNA/{bp}bp/{mM}mM/push_100k_steps/run_{run}/dsDNA_{bp}bp_{mM}mM_pressure_push.dat'\n",
    "    radius = np.array([float(i.split('\\t')[1].strip()) for i in open(fname)])\n",
    "    pressure = np.array([float(i.split('\\t')[2].strip())*1.6*9.87 for i in open(fname)])\n",
    "    inds = np.where(radius<30)[0]\n",
    "    p.line(radius[inds], pressure[inds], color=c, legend=run, line_width=2)\n",
    "p.legend.label_text_font_size = \"18pt\"\n",
    "show(p)\n",
    "# export_png(p, filename='../DNA/dsDNA/plots/dif_traj_4000bp_50mM.png')"
   ]
  },
  {
   "cell_type": "code",
   "execution_count": 17,
   "metadata": {},
   "outputs": [
    {
     "name": "stderr",
     "output_type": "stream",
     "text": [
      "/home/yagafarova/anaconda3/lib/python3.6/site-packages/selenium/webdriver/phantomjs/webdriver.py:49: UserWarning: Selenium support for PhantomJS has been deprecated, please use headless versions of Chrome or Firefox instead\n",
      "  warnings.warn('Selenium support for PhantomJS has been deprecated, please use headless '\n"
     ]
    },
    {
     "data": {
      "text/plain": [
       "'/home/yagafarova/DNA/dsDNA/plots/dif_concs_4000bp.png'"
      ]
     },
     "execution_count": 17,
     "metadata": {},
     "output_type": "execute_result"
    }
   ],
   "source": [
    "#For different concentrations 4000bp\n",
    "p = figure(x_axis_label='Radius of compression, nm', \n",
    "           y_axis_label='Pressure, atm', \n",
    "           plot_width=800, \n",
    "           plot_height=600)\n",
    "p.toolbar.logo = None\n",
    "p.toolbar_location = None\n",
    "p.xaxis.axis_label_text_font_size = \"22pt\"\n",
    "p.xaxis.major_label_text_font_size = \"18pt\"\n",
    "p.yaxis.axis_label_text_font_size = \"22pt\"\n",
    "p.yaxis.major_label_text_font_size = \"18pt\"\n",
    "mMs = ['0.1','2','5','12','50']\n",
    "colors = inferno(len(mMs)+1)\n",
    "for mM,c in zip(mMs, colors):\n",
    "    fname = f'../DNA/dsDNA/4000bp/{mM}mM/push_from_30nm/dsDNA_4000bp_{mM}mM_pressure_push.dat'\n",
    "    radius = np.array([float(i.split('\\t')[1].strip()) for i in open(fname)])\n",
    "    pressure = np.array([float(i.split('\\t')[2].strip())*1.6*9.87 for i in open(fname)])\n",
    "    inds = np.where(radius<30)[0]\n",
    "    p.line(radius[inds], pressure[inds], color=c, legend=mM, line_width=2)\n",
    "p.legend.label_text_font_size = \"18pt\"\n",
    "# show(p)\n",
    "export_png(p, filename='../DNA/dsDNA/plots/dif_concs_4000bp.png')"
   ]
  },
  {
   "cell_type": "code",
   "execution_count": null,
   "metadata": {},
   "outputs": [],
   "source": [
    "p = figure(x_axis_label='Radius of compression, nm', y_axis_label='Pressure, atm', plot_width=800, plot_height=600)\n",
    "output_file('dif_length_50mM.html', title=\"dif_length_50mM\")\n",
    "p.xaxis.axis_label_text_font_size = \"22pt\"\n",
    "p.xaxis.major_label_text_font_size = \"18pt\"\n",
    "p.yaxis.axis_label_text_font_size = \"22pt\"\n",
    "p.yaxis.major_label_text_font_size = \"18pt\"\n",
    "p.x_range = Range1d(3.6, 20.4)\n",
    "p.y_range = Range1d(-20, 420)\n",
    "p.legend.title = 'Number of base pairs'\n",
    "p.legend.label_standoff = 5\n",
    "p.legend.glyph_width = 50\n",
    "p.legend.spacing = 10\n",
    "p.legend.padding = 50\n",
    "p.legend.margin = 50\n",
    "\n",
    "lengths = ['500','1000','2000','4000','6000','8000','10000']\n",
    "colors = inferno(len(lengths)+1)\n",
    "for bp,c in zip(lengths, colors):\n",
    "    fname = '../DNA/dsDNA/4000bp/{mM}mM/'\n",
    "    radius = [float(i.split('\\t')[1].strip()) for i in open(fname)]\n",
    "    pressure = [float(i.split('\\t')[2].strip())*1.6*9.87 for i in open(fname)]\n",
    "    #start = np.where(np.array(radius)<20)[0]\n",
    "    #p.line(np.array(radius)[start], np.array(pressure)[start], color= c, legend=l, line_width=2)\n",
    "    p.line(radius, pressure, color= c, legend=l, line_width=2)\n",
    "p.legend.label_text_font_size = \"18pt\"\n",
    "show(p)\n",
    "export_png(p, filename='/home/yagafarova/dif_conc_4000bp.png')"
   ]
  },
  {
   "cell_type": "code",
   "execution_count": null,
   "metadata": {},
   "outputs": [],
   "source": [
    "p = figure(title=\"Angles for concentration 2 mM\", plot_width=800, plot_height=600)\n",
    "output_file('histogram.html', title=\"histogram for angles\")\n",
    "fname = '/home/yagafarova/calc_DNA_center_line/mM2_angles.dat'\n",
    "measured = np.array([float(i.split('\\t')[0].strip()) for i in open(fname)]) / pi * 180\n",
    "hist, edges = np.histogram(measured, density=True, bins=50)\n",
    "\n",
    "p.quad(top=hist, bottom=0, left=edges[:-1], right=edges[1:],\n",
    "        fill_color=\"#036564\", line_color=\"#033649\")\n",
    "p.legend.location = \"center_right\"\n",
    "p.legend.background_fill_color = \"darkgrey\"\n",
    "p.xaxis.axis_label = 'x'\n",
    "p.yaxis.axis_label = 'Pr(x)'\n",
    "\n",
    "show(p)"
   ]
  },
  {
   "cell_type": "code",
   "execution_count": null,
   "metadata": {},
   "outputs": [],
   "source": [
    "p = figure(title=\"Angles for concentration 2 mM\", plot_width=800, plot_height=600)\n",
    "output_file('angles.html', title=\"angles\")\n",
    "fname = '/home/yagafarova/calc_DNA_center_line/mM2_angles.dat'\n",
    "measured = np.array([float(i.split('\\t')[0].strip()) for i in open(fname)]) / pi * 180\n",
    "\n",
    "n = np.arange(len(measured))\n",
    "\n",
    "p.line(n, measured, color= c, legend=l, line_width=2)\n",
    "\n",
    "show(p)"
   ]
  },
  {
   "cell_type": "code",
   "execution_count": null,
   "metadata": {},
   "outputs": [],
   "source": []
  }
 ],
 "metadata": {
  "kernelspec": {
   "display_name": "Python 3",
   "language": "python",
   "name": "python3"
  },
  "language_info": {
   "codemirror_mode": {
    "name": "ipython",
    "version": 3
   },
   "file_extension": ".py",
   "mimetype": "text/x-python",
   "name": "python",
   "nbconvert_exporter": "python",
   "pygments_lexer": "ipython3",
   "version": "3.6.4"
  }
 },
 "nbformat": 4,
 "nbformat_minor": 2
}
