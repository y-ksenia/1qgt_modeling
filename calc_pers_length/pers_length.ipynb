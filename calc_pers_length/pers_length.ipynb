{
 "cells": [
  {
   "cell_type": "code",
   "execution_count": null,
   "metadata": {},
   "outputs": [],
   "source": [
    "import MDAnalysis\n",
    "import matplotlib.pyplot as plt\n",
    "import numpy as np\n",
    "from numpy import linalg as la\n",
    "from scipy.spatial.distance import cosine\n",
    "from scipy.linalg import solve\n",
    "import time\n",
    "import mdtraj\n",
    "from tqdm import tqdm\n",
    "import time\n",
    "import random\n",
    "import os"
   ]
  },
  {
   "cell_type": "code",
   "execution_count": null,
   "metadata": {},
   "outputs": [],
   "source": [
    "def calc_pers_length(dna,mM):\n",
    "    Na_margin = 5\n",
    "    N = len(dna.atoms)\n",
    "    for Na in (range(5,85)):\n",
    "        cur_aver = [[],[],[],[]]\n",
    "        cur_pl = [[],[],[],[]]\n",
    "        for ts in tqdm(dna.trajectory):\n",
    "            rand = random.randint(0,3)\n",
    "            if ts.frame == 0:\n",
    "                dist = []\n",
    "                for i in range(0,N-1):\n",
    "                    r = dna.coord[i+1]-dna.coord[i]\n",
    "                    dist.append(np.linalg.norm(r))\n",
    "                a = np.mean(dist)\n",
    "                print(a)\n",
    "            else:\n",
    "                for i in range(Na_margin,N-Na-Na_margin):\n",
    "                    r1 = dna.coord[i+1]-dna.coord[i]\n",
    "                    r2 = dna.coord[Na+i+1]-dna.coord[Na+i]\n",
    "\n",
    "#                     for k in range(4):\n",
    "#                         if rand == k:\n",
    "                    k=0\n",
    "                    cur_aver[k].append(1-cosine(r1,r2))\n",
    "        \n",
    "#         for k in range(4):\n",
    "        k = 0\n",
    "#         if cur_aver[k] > 0:\n",
    "        cur_pl[k] = -Na*a/np.log(np.mean(cur_aver[k]))/10\n",
    "        out = open(f'../DNA/dsDNA/100bp/{mM}mM/persistence_length/test_python.dat', \"a\")\n",
    "        out.write(str(Na) + '\\t' + str(cur_pl[k]) + '\\n')\n",
    "        out.close()"
   ]
  },
  {
   "cell_type": "code",
   "execution_count": null,
   "metadata": {},
   "outputs": [],
   "source": [
    "c = MDAnalysis.Universe(f'../DNA/dsDNA/100bp/50mM/central_line/dsDNA_100bp_mM50_central_line.xyz', \n",
    "                        f'../DNA/dsDNA/100bp/50mM/central_line/dsDNA_100bp_mM50_central_line.dcd')\n",
    "\n",
    "if not os.path.exists(f'../DNA/dsDNA/100bp/50mM/persistence_length'):\n",
    "        os.mkdir(f'../DNA/dsDNA/100bp/50mM/persistence_length')\n",
    "\n",
    "calc_pers_length(c, 50)"
   ]
  },
  {
   "cell_type": "code",
   "execution_count": null,
   "metadata": {},
   "outputs": [],
   "source": []
  }
 ],
 "metadata": {
  "kernelspec": {
   "display_name": "Python 3",
   "language": "python",
   "name": "python3"
  },
  "language_info": {
   "codemirror_mode": {
    "name": "ipython",
    "version": 3
   },
   "file_extension": ".py",
   "mimetype": "text/x-python",
   "name": "python",
   "nbconvert_exporter": "python",
   "pygments_lexer": "ipython3",
   "version": "3.6.4"
  }
 },
 "nbformat": 4,
 "nbformat_minor": 2
}
